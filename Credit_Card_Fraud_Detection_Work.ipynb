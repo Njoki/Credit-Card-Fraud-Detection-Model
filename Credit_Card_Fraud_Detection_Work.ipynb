{
  "nbformat": 4,
  "nbformat_minor": 0,
  "metadata": {
    "kernelspec": {
      "display_name": "Python 3",
      "language": "python",
      "name": "python3"
    },
    "language_info": {
      "codemirror_mode": {
        "name": "ipython",
        "version": 3
      },
      "file_extension": ".py",
      "mimetype": "text/x-python",
      "name": "python",
      "nbconvert_exporter": "python",
      "pygments_lexer": "ipython3",
      "version": "3.7.3"
    },
    "colab": {
      "name": "Credit Card Fraud Detection Work.ipynb",
      "provenance": [],
      "collapsed_sections": [
        "Rbu347uNhSut"
      ]
    }
  },
  "cells": [
    {
      "cell_type": "markdown",
      "metadata": {
        "id": "Eq7UQJcEhSlI",
        "colab_type": "text"
      },
      "source": [
        "## Essay "
      ]
    },
    {
      "cell_type": "markdown",
      "metadata": {
        "id": "iBQz9d6ehSlL",
        "colab_type": "text"
      },
      "source": [
        "### Importing libraries"
      ]
    },
    {
      "cell_type": "code",
      "metadata": {
        "scrolled": true,
        "id": "YmYyQzPnhSlP",
        "colab_type": "code",
        "colab": {}
      },
      "source": [
        "import numpy as np\n",
        "import matplotlib.pyplot as plt\n",
        "import pandas as pd\n",
        "import seaborn as sns\n",
        "from sklearn import preprocessing\n",
        "from sklearn.preprocessing import StandardScaler\n",
        "from sklearn.model_selection import train_test_split\n",
        "from imblearn.combine import SMOTETomek\n",
        "from sklearn.ensemble import RandomForestClassifier\n",
        "from sklearn.naive_bayes import GaussianNB\n",
        "from imblearn.under_sampling import EditedNearestNeighbours \n",
        "from imblearn.under_sampling import NeighbourhoodCleaningRule\n",
        "from imblearn.under_sampling import OneSidedSelection\n",
        "from sklearn.neighbors import KNeighborsClassifier\n",
        "from sklearn.svm import SVC\n",
        "import sklearn.metrics as metrics\n",
        "from sklearn.metrics import classification_report\n",
        "from sklearn.metrics import accuracy_score, f1_score, confusion_matrix, recall_score,precision_score\n",
        "from sklearn.metrics import confusion_matrix\n",
        "from google.colab import files\n",
        "import io"
      ],
      "execution_count": 0,
      "outputs": []
    },
    {
      "cell_type": "markdown",
      "metadata": {
        "id": "26gIbSs2hSlk",
        "colab_type": "text"
      },
      "source": [
        "### Loading data"
      ]
    },
    {
      "cell_type": "code",
      "metadata": {
        "id": "zARevMY0hSln",
        "colab_type": "code",
        "colab": {}
      },
      "source": [
        "# Code to read csv file into Colaboratory:\n",
        "!pip install -U -q PyDrive\n",
        "from pydrive.auth import GoogleAuth\n",
        "from pydrive.drive import GoogleDrive\n",
        "from google.colab import auth\n",
        "from oauth2client.client import GoogleCredentials\n",
        "# Authenticate and create the PyDrive client.\n",
        "auth.authenticate_user()\n",
        "gauth = GoogleAuth()\n",
        "gauth.credentials = GoogleCredentials.get_application_default()\n",
        "drive = GoogleDrive(gauth)"
      ],
      "execution_count": 0,
      "outputs": []
    },
    {
      "cell_type": "code",
      "metadata": {
        "id": "Yu5rUcrwhSlx",
        "colab_type": "code",
        "colab": {}
      },
      "source": [
        "link = 'https://drive.google.com/open?id=1lFvYGK-YeajG2oBQpX7gRljXJ86STZuJ' "
      ],
      "execution_count": 0,
      "outputs": []
    },
    {
      "cell_type": "code",
      "metadata": {
        "id": "wEJhCes4kl4o",
        "colab_type": "code",
        "outputId": "77226647-6f45-4ebd-f7a9-7ba0673080de",
        "colab": {
          "base_uri": "https://localhost:8080/",
          "height": 35
        }
      },
      "source": [
        "fluff, id = link.split('=')\n",
        "print (id) # Verify that you have everything after '='"
      ],
      "execution_count": 0,
      "outputs": [
        {
          "output_type": "stream",
          "text": [
            "1lFvYGK-YeajG2oBQpX7gRljXJ86STZuJ\n"
          ],
          "name": "stdout"
        }
      ]
    },
    {
      "cell_type": "code",
      "metadata": {
        "id": "9GfduA72ks7p",
        "colab_type": "code",
        "colab": {}
      },
      "source": [
        "downloaded = drive.CreateFile({'id':id}) \n",
        "downloaded.GetContentFile('Filename.csv')  \n",
        "data = pd.read_csv('Filename.csv')"
      ],
      "execution_count": 0,
      "outputs": []
    },
    {
      "cell_type": "code",
      "metadata": {
        "id": "2pN1mWAOhSl7",
        "colab_type": "code",
        "outputId": "18c8ef24-e833-406a-a0d6-9a9c2e129ef4",
        "colab": {
          "base_uri": "https://localhost:8080/",
          "height": 226
        }
      },
      "source": [
        "## Checking the first five instances of the data\n",
        "\n",
        "data.head()"
      ],
      "execution_count": 0,
      "outputs": [
        {
          "output_type": "execute_result",
          "data": {
            "text/html": [
              "<div>\n",
              "<style scoped>\n",
              "    .dataframe tbody tr th:only-of-type {\n",
              "        vertical-align: middle;\n",
              "    }\n",
              "\n",
              "    .dataframe tbody tr th {\n",
              "        vertical-align: top;\n",
              "    }\n",
              "\n",
              "    .dataframe thead th {\n",
              "        text-align: right;\n",
              "    }\n",
              "</style>\n",
              "<table border=\"1\" class=\"dataframe\">\n",
              "  <thead>\n",
              "    <tr style=\"text-align: right;\">\n",
              "      <th></th>\n",
              "      <th>Time</th>\n",
              "      <th>V1</th>\n",
              "      <th>V2</th>\n",
              "      <th>V3</th>\n",
              "      <th>V4</th>\n",
              "      <th>V5</th>\n",
              "      <th>V6</th>\n",
              "      <th>V7</th>\n",
              "      <th>V8</th>\n",
              "      <th>V9</th>\n",
              "      <th>V10</th>\n",
              "      <th>V11</th>\n",
              "      <th>V12</th>\n",
              "      <th>V13</th>\n",
              "      <th>V14</th>\n",
              "      <th>V15</th>\n",
              "      <th>V16</th>\n",
              "      <th>V17</th>\n",
              "      <th>V18</th>\n",
              "      <th>V19</th>\n",
              "      <th>V20</th>\n",
              "      <th>V21</th>\n",
              "      <th>V22</th>\n",
              "      <th>V23</th>\n",
              "      <th>V24</th>\n",
              "      <th>V25</th>\n",
              "      <th>V26</th>\n",
              "      <th>V27</th>\n",
              "      <th>V28</th>\n",
              "      <th>Amount</th>\n",
              "      <th>Class</th>\n",
              "    </tr>\n",
              "  </thead>\n",
              "  <tbody>\n",
              "    <tr>\n",
              "      <th>0</th>\n",
              "      <td>0</td>\n",
              "      <td>-1.359807</td>\n",
              "      <td>-0.072781</td>\n",
              "      <td>2.536347</td>\n",
              "      <td>1.378155</td>\n",
              "      <td>-0.338321</td>\n",
              "      <td>0.462388</td>\n",
              "      <td>0.239599</td>\n",
              "      <td>0.098698</td>\n",
              "      <td>0.363787</td>\n",
              "      <td>0.090794</td>\n",
              "      <td>-0.551600</td>\n",
              "      <td>-0.617801</td>\n",
              "      <td>-0.991390</td>\n",
              "      <td>-0.311169</td>\n",
              "      <td>1.468177</td>\n",
              "      <td>-0.470401</td>\n",
              "      <td>0.207971</td>\n",
              "      <td>0.025791</td>\n",
              "      <td>0.403993</td>\n",
              "      <td>0.251412</td>\n",
              "      <td>-0.018307</td>\n",
              "      <td>0.277838</td>\n",
              "      <td>-0.110474</td>\n",
              "      <td>0.066928</td>\n",
              "      <td>0.128539</td>\n",
              "      <td>-0.189115</td>\n",
              "      <td>0.133558</td>\n",
              "      <td>-0.021053</td>\n",
              "      <td>149.62</td>\n",
              "      <td>0</td>\n",
              "    </tr>\n",
              "    <tr>\n",
              "      <th>1</th>\n",
              "      <td>0</td>\n",
              "      <td>1.191857</td>\n",
              "      <td>0.266151</td>\n",
              "      <td>0.166480</td>\n",
              "      <td>0.448154</td>\n",
              "      <td>0.060018</td>\n",
              "      <td>-0.082361</td>\n",
              "      <td>-0.078803</td>\n",
              "      <td>0.085102</td>\n",
              "      <td>-0.255425</td>\n",
              "      <td>-0.166974</td>\n",
              "      <td>1.612727</td>\n",
              "      <td>1.065235</td>\n",
              "      <td>0.489095</td>\n",
              "      <td>-0.143772</td>\n",
              "      <td>0.635558</td>\n",
              "      <td>0.463917</td>\n",
              "      <td>-0.114805</td>\n",
              "      <td>-0.183361</td>\n",
              "      <td>-0.145783</td>\n",
              "      <td>-0.069083</td>\n",
              "      <td>-0.225775</td>\n",
              "      <td>-0.638672</td>\n",
              "      <td>0.101288</td>\n",
              "      <td>-0.339846</td>\n",
              "      <td>0.167170</td>\n",
              "      <td>0.125895</td>\n",
              "      <td>-0.008983</td>\n",
              "      <td>0.014724</td>\n",
              "      <td>2.69</td>\n",
              "      <td>0</td>\n",
              "    </tr>\n",
              "    <tr>\n",
              "      <th>2</th>\n",
              "      <td>1</td>\n",
              "      <td>-1.358354</td>\n",
              "      <td>-1.340163</td>\n",
              "      <td>1.773209</td>\n",
              "      <td>0.379780</td>\n",
              "      <td>-0.503198</td>\n",
              "      <td>1.800499</td>\n",
              "      <td>0.791461</td>\n",
              "      <td>0.247676</td>\n",
              "      <td>-1.514654</td>\n",
              "      <td>0.207643</td>\n",
              "      <td>0.624501</td>\n",
              "      <td>0.066084</td>\n",
              "      <td>0.717293</td>\n",
              "      <td>-0.165946</td>\n",
              "      <td>2.345865</td>\n",
              "      <td>-2.890083</td>\n",
              "      <td>1.109969</td>\n",
              "      <td>-0.121359</td>\n",
              "      <td>-2.261857</td>\n",
              "      <td>0.524980</td>\n",
              "      <td>0.247998</td>\n",
              "      <td>0.771679</td>\n",
              "      <td>0.909412</td>\n",
              "      <td>-0.689281</td>\n",
              "      <td>-0.327642</td>\n",
              "      <td>-0.139097</td>\n",
              "      <td>-0.055353</td>\n",
              "      <td>-0.059752</td>\n",
              "      <td>378.66</td>\n",
              "      <td>0</td>\n",
              "    </tr>\n",
              "    <tr>\n",
              "      <th>3</th>\n",
              "      <td>1</td>\n",
              "      <td>-0.966272</td>\n",
              "      <td>-0.185226</td>\n",
              "      <td>1.792993</td>\n",
              "      <td>-0.863291</td>\n",
              "      <td>-0.010309</td>\n",
              "      <td>1.247203</td>\n",
              "      <td>0.237609</td>\n",
              "      <td>0.377436</td>\n",
              "      <td>-1.387024</td>\n",
              "      <td>-0.054952</td>\n",
              "      <td>-0.226487</td>\n",
              "      <td>0.178228</td>\n",
              "      <td>0.507757</td>\n",
              "      <td>-0.287924</td>\n",
              "      <td>-0.631418</td>\n",
              "      <td>-1.059647</td>\n",
              "      <td>-0.684093</td>\n",
              "      <td>1.965775</td>\n",
              "      <td>-1.232622</td>\n",
              "      <td>-0.208038</td>\n",
              "      <td>-0.108300</td>\n",
              "      <td>0.005274</td>\n",
              "      <td>-0.190321</td>\n",
              "      <td>-1.175575</td>\n",
              "      <td>0.647376</td>\n",
              "      <td>-0.221929</td>\n",
              "      <td>0.062723</td>\n",
              "      <td>0.061458</td>\n",
              "      <td>123.50</td>\n",
              "      <td>0</td>\n",
              "    </tr>\n",
              "    <tr>\n",
              "      <th>4</th>\n",
              "      <td>2</td>\n",
              "      <td>-1.158233</td>\n",
              "      <td>0.877737</td>\n",
              "      <td>1.548718</td>\n",
              "      <td>0.403034</td>\n",
              "      <td>-0.407193</td>\n",
              "      <td>0.095921</td>\n",
              "      <td>0.592941</td>\n",
              "      <td>-0.270533</td>\n",
              "      <td>0.817739</td>\n",
              "      <td>0.753074</td>\n",
              "      <td>-0.822843</td>\n",
              "      <td>0.538196</td>\n",
              "      <td>1.345852</td>\n",
              "      <td>-1.119670</td>\n",
              "      <td>0.175121</td>\n",
              "      <td>-0.451449</td>\n",
              "      <td>-0.237033</td>\n",
              "      <td>-0.038195</td>\n",
              "      <td>0.803487</td>\n",
              "      <td>0.408542</td>\n",
              "      <td>-0.009431</td>\n",
              "      <td>0.798278</td>\n",
              "      <td>-0.137458</td>\n",
              "      <td>0.141267</td>\n",
              "      <td>-0.206010</td>\n",
              "      <td>0.502292</td>\n",
              "      <td>0.219422</td>\n",
              "      <td>0.215153</td>\n",
              "      <td>69.99</td>\n",
              "      <td>0</td>\n",
              "    </tr>\n",
              "  </tbody>\n",
              "</table>\n",
              "</div>"
            ],
            "text/plain": [
              "   Time        V1        V2        V3  ...       V27       V28  Amount  Class\n",
              "0     0 -1.359807 -0.072781  2.536347  ...  0.133558 -0.021053  149.62      0\n",
              "1     0  1.191857  0.266151  0.166480  ... -0.008983  0.014724    2.69      0\n",
              "2     1 -1.358354 -1.340163  1.773209  ... -0.055353 -0.059752  378.66      0\n",
              "3     1 -0.966272 -0.185226  1.792993  ...  0.062723  0.061458  123.50      0\n",
              "4     2 -1.158233  0.877737  1.548718  ...  0.219422  0.215153   69.99      0\n",
              "\n",
              "[5 rows x 31 columns]"
            ]
          },
          "metadata": {
            "tags": []
          },
          "execution_count": 7
        }
      ]
    },
    {
      "cell_type": "code",
      "metadata": {
        "id": "ER25jeZhhSmI",
        "colab_type": "code",
        "outputId": "52110542-60a7-4f75-e767-5171c9a17148",
        "colab": {}
      },
      "source": [
        "### checking the shape of the data\n",
        "\n",
        "data.shape"
      ],
      "execution_count": 0,
      "outputs": [
        {
          "output_type": "execute_result",
          "data": {
            "text/plain": [
              "(284807, 31)"
            ]
          },
          "metadata": {
            "tags": []
          },
          "execution_count": 5
        }
      ]
    },
    {
      "cell_type": "code",
      "metadata": {
        "id": "xyOjUZPrhSmS",
        "colab_type": "code",
        "outputId": "2a99ddd1-b403-4b0b-9870-ee34dd9516b0",
        "colab": {}
      },
      "source": [
        "## checking the summary of our data\n",
        "\n",
        "data.describe()"
      ],
      "execution_count": 0,
      "outputs": [
        {
          "output_type": "execute_result",
          "data": {
            "text/html": [
              "<div>\n",
              "<style scoped>\n",
              "    .dataframe tbody tr th:only-of-type {\n",
              "        vertical-align: middle;\n",
              "    }\n",
              "\n",
              "    .dataframe tbody tr th {\n",
              "        vertical-align: top;\n",
              "    }\n",
              "\n",
              "    .dataframe thead th {\n",
              "        text-align: right;\n",
              "    }\n",
              "</style>\n",
              "<table border=\"1\" class=\"dataframe\">\n",
              "  <thead>\n",
              "    <tr style=\"text-align: right;\">\n",
              "      <th></th>\n",
              "      <th>Time</th>\n",
              "      <th>V1</th>\n",
              "      <th>V2</th>\n",
              "      <th>V3</th>\n",
              "      <th>V4</th>\n",
              "      <th>V5</th>\n",
              "      <th>V6</th>\n",
              "      <th>V7</th>\n",
              "      <th>V8</th>\n",
              "      <th>V9</th>\n",
              "      <th>...</th>\n",
              "      <th>V21</th>\n",
              "      <th>V22</th>\n",
              "      <th>V23</th>\n",
              "      <th>V24</th>\n",
              "      <th>V25</th>\n",
              "      <th>V26</th>\n",
              "      <th>V27</th>\n",
              "      <th>V28</th>\n",
              "      <th>Amount</th>\n",
              "      <th>Class</th>\n",
              "    </tr>\n",
              "  </thead>\n",
              "  <tbody>\n",
              "    <tr>\n",
              "      <th>count</th>\n",
              "      <td>284807.000000</td>\n",
              "      <td>2.848070e+05</td>\n",
              "      <td>2.848070e+05</td>\n",
              "      <td>2.848070e+05</td>\n",
              "      <td>2.848070e+05</td>\n",
              "      <td>2.848070e+05</td>\n",
              "      <td>2.848070e+05</td>\n",
              "      <td>2.848070e+05</td>\n",
              "      <td>2.848070e+05</td>\n",
              "      <td>2.848070e+05</td>\n",
              "      <td>...</td>\n",
              "      <td>2.848070e+05</td>\n",
              "      <td>2.848070e+05</td>\n",
              "      <td>2.848070e+05</td>\n",
              "      <td>2.848070e+05</td>\n",
              "      <td>2.848070e+05</td>\n",
              "      <td>2.848070e+05</td>\n",
              "      <td>2.848070e+05</td>\n",
              "      <td>2.848070e+05</td>\n",
              "      <td>284807.000000</td>\n",
              "      <td>284807.000000</td>\n",
              "    </tr>\n",
              "    <tr>\n",
              "      <th>mean</th>\n",
              "      <td>94813.859575</td>\n",
              "      <td>1.165980e-15</td>\n",
              "      <td>3.400941e-16</td>\n",
              "      <td>-1.373150e-15</td>\n",
              "      <td>2.074095e-15</td>\n",
              "      <td>9.604066e-16</td>\n",
              "      <td>1.487313e-15</td>\n",
              "      <td>-5.548484e-16</td>\n",
              "      <td>1.056807e-16</td>\n",
              "      <td>-2.406206e-15</td>\n",
              "      <td>...</td>\n",
              "      <td>1.662549e-16</td>\n",
              "      <td>-3.560610e-16</td>\n",
              "      <td>2.608586e-16</td>\n",
              "      <td>4.474413e-15</td>\n",
              "      <td>5.340915e-16</td>\n",
              "      <td>1.686512e-15</td>\n",
              "      <td>-3.684602e-16</td>\n",
              "      <td>-1.193648e-16</td>\n",
              "      <td>88.349619</td>\n",
              "      <td>0.001727</td>\n",
              "    </tr>\n",
              "    <tr>\n",
              "      <th>std</th>\n",
              "      <td>47488.145955</td>\n",
              "      <td>1.958696e+00</td>\n",
              "      <td>1.651309e+00</td>\n",
              "      <td>1.516255e+00</td>\n",
              "      <td>1.415869e+00</td>\n",
              "      <td>1.380247e+00</td>\n",
              "      <td>1.332271e+00</td>\n",
              "      <td>1.237094e+00</td>\n",
              "      <td>1.194353e+00</td>\n",
              "      <td>1.098632e+00</td>\n",
              "      <td>...</td>\n",
              "      <td>7.345240e-01</td>\n",
              "      <td>7.257016e-01</td>\n",
              "      <td>6.244603e-01</td>\n",
              "      <td>6.056471e-01</td>\n",
              "      <td>5.212781e-01</td>\n",
              "      <td>4.822270e-01</td>\n",
              "      <td>4.036325e-01</td>\n",
              "      <td>3.300833e-01</td>\n",
              "      <td>250.120109</td>\n",
              "      <td>0.041527</td>\n",
              "    </tr>\n",
              "    <tr>\n",
              "      <th>min</th>\n",
              "      <td>0.000000</td>\n",
              "      <td>-5.640751e+01</td>\n",
              "      <td>-7.271573e+01</td>\n",
              "      <td>-4.832559e+01</td>\n",
              "      <td>-5.683171e+00</td>\n",
              "      <td>-1.137433e+02</td>\n",
              "      <td>-2.616051e+01</td>\n",
              "      <td>-4.355724e+01</td>\n",
              "      <td>-7.321672e+01</td>\n",
              "      <td>-1.343407e+01</td>\n",
              "      <td>...</td>\n",
              "      <td>-3.483038e+01</td>\n",
              "      <td>-1.093314e+01</td>\n",
              "      <td>-4.480774e+01</td>\n",
              "      <td>-2.836627e+00</td>\n",
              "      <td>-1.029540e+01</td>\n",
              "      <td>-2.604551e+00</td>\n",
              "      <td>-2.256568e+01</td>\n",
              "      <td>-1.543008e+01</td>\n",
              "      <td>0.000000</td>\n",
              "      <td>0.000000</td>\n",
              "    </tr>\n",
              "    <tr>\n",
              "      <th>25%</th>\n",
              "      <td>54201.500000</td>\n",
              "      <td>-9.203734e-01</td>\n",
              "      <td>-5.985499e-01</td>\n",
              "      <td>-8.903648e-01</td>\n",
              "      <td>-8.486401e-01</td>\n",
              "      <td>-6.915971e-01</td>\n",
              "      <td>-7.682956e-01</td>\n",
              "      <td>-5.540759e-01</td>\n",
              "      <td>-2.086297e-01</td>\n",
              "      <td>-6.430976e-01</td>\n",
              "      <td>...</td>\n",
              "      <td>-2.283949e-01</td>\n",
              "      <td>-5.423504e-01</td>\n",
              "      <td>-1.618463e-01</td>\n",
              "      <td>-3.545861e-01</td>\n",
              "      <td>-3.171451e-01</td>\n",
              "      <td>-3.269839e-01</td>\n",
              "      <td>-7.083953e-02</td>\n",
              "      <td>-5.295979e-02</td>\n",
              "      <td>5.600000</td>\n",
              "      <td>0.000000</td>\n",
              "    </tr>\n",
              "    <tr>\n",
              "      <th>50%</th>\n",
              "      <td>84692.000000</td>\n",
              "      <td>1.810880e-02</td>\n",
              "      <td>6.548556e-02</td>\n",
              "      <td>1.798463e-01</td>\n",
              "      <td>-1.984653e-02</td>\n",
              "      <td>-5.433583e-02</td>\n",
              "      <td>-2.741871e-01</td>\n",
              "      <td>4.010308e-02</td>\n",
              "      <td>2.235804e-02</td>\n",
              "      <td>-5.142873e-02</td>\n",
              "      <td>...</td>\n",
              "      <td>-2.945017e-02</td>\n",
              "      <td>6.781943e-03</td>\n",
              "      <td>-1.119293e-02</td>\n",
              "      <td>4.097606e-02</td>\n",
              "      <td>1.659350e-02</td>\n",
              "      <td>-5.213911e-02</td>\n",
              "      <td>1.342146e-03</td>\n",
              "      <td>1.124383e-02</td>\n",
              "      <td>22.000000</td>\n",
              "      <td>0.000000</td>\n",
              "    </tr>\n",
              "    <tr>\n",
              "      <th>75%</th>\n",
              "      <td>139320.500000</td>\n",
              "      <td>1.315642e+00</td>\n",
              "      <td>8.037239e-01</td>\n",
              "      <td>1.027196e+00</td>\n",
              "      <td>7.433413e-01</td>\n",
              "      <td>6.119264e-01</td>\n",
              "      <td>3.985649e-01</td>\n",
              "      <td>5.704361e-01</td>\n",
              "      <td>3.273459e-01</td>\n",
              "      <td>5.971390e-01</td>\n",
              "      <td>...</td>\n",
              "      <td>1.863772e-01</td>\n",
              "      <td>5.285536e-01</td>\n",
              "      <td>1.476421e-01</td>\n",
              "      <td>4.395266e-01</td>\n",
              "      <td>3.507156e-01</td>\n",
              "      <td>2.409522e-01</td>\n",
              "      <td>9.104512e-02</td>\n",
              "      <td>7.827995e-02</td>\n",
              "      <td>77.165000</td>\n",
              "      <td>0.000000</td>\n",
              "    </tr>\n",
              "    <tr>\n",
              "      <th>max</th>\n",
              "      <td>172792.000000</td>\n",
              "      <td>2.454930e+00</td>\n",
              "      <td>2.205773e+01</td>\n",
              "      <td>9.382558e+00</td>\n",
              "      <td>1.687534e+01</td>\n",
              "      <td>3.480167e+01</td>\n",
              "      <td>7.330163e+01</td>\n",
              "      <td>1.205895e+02</td>\n",
              "      <td>2.000721e+01</td>\n",
              "      <td>1.559499e+01</td>\n",
              "      <td>...</td>\n",
              "      <td>2.720284e+01</td>\n",
              "      <td>1.050309e+01</td>\n",
              "      <td>2.252841e+01</td>\n",
              "      <td>4.584549e+00</td>\n",
              "      <td>7.519589e+00</td>\n",
              "      <td>3.517346e+00</td>\n",
              "      <td>3.161220e+01</td>\n",
              "      <td>3.384781e+01</td>\n",
              "      <td>25691.160000</td>\n",
              "      <td>1.000000</td>\n",
              "    </tr>\n",
              "  </tbody>\n",
              "</table>\n",
              "<p>8 rows × 31 columns</p>\n",
              "</div>"
            ],
            "text/plain": [
              "                Time            V1            V2            V3            V4  \\\n",
              "count  284807.000000  2.848070e+05  2.848070e+05  2.848070e+05  2.848070e+05   \n",
              "mean    94813.859575  1.165980e-15  3.400941e-16 -1.373150e-15  2.074095e-15   \n",
              "std     47488.145955  1.958696e+00  1.651309e+00  1.516255e+00  1.415869e+00   \n",
              "min         0.000000 -5.640751e+01 -7.271573e+01 -4.832559e+01 -5.683171e+00   \n",
              "25%     54201.500000 -9.203734e-01 -5.985499e-01 -8.903648e-01 -8.486401e-01   \n",
              "50%     84692.000000  1.810880e-02  6.548556e-02  1.798463e-01 -1.984653e-02   \n",
              "75%    139320.500000  1.315642e+00  8.037239e-01  1.027196e+00  7.433413e-01   \n",
              "max    172792.000000  2.454930e+00  2.205773e+01  9.382558e+00  1.687534e+01   \n",
              "\n",
              "                 V5            V6            V7            V8            V9  \\\n",
              "count  2.848070e+05  2.848070e+05  2.848070e+05  2.848070e+05  2.848070e+05   \n",
              "mean   9.604066e-16  1.487313e-15 -5.548484e-16  1.056807e-16 -2.406206e-15   \n",
              "std    1.380247e+00  1.332271e+00  1.237094e+00  1.194353e+00  1.098632e+00   \n",
              "min   -1.137433e+02 -2.616051e+01 -4.355724e+01 -7.321672e+01 -1.343407e+01   \n",
              "25%   -6.915971e-01 -7.682956e-01 -5.540759e-01 -2.086297e-01 -6.430976e-01   \n",
              "50%   -5.433583e-02 -2.741871e-01  4.010308e-02  2.235804e-02 -5.142873e-02   \n",
              "75%    6.119264e-01  3.985649e-01  5.704361e-01  3.273459e-01  5.971390e-01   \n",
              "max    3.480167e+01  7.330163e+01  1.205895e+02  2.000721e+01  1.559499e+01   \n",
              "\n",
              "           ...                 V21           V22           V23           V24  \\\n",
              "count      ...        2.848070e+05  2.848070e+05  2.848070e+05  2.848070e+05   \n",
              "mean       ...        1.662549e-16 -3.560610e-16  2.608586e-16  4.474413e-15   \n",
              "std        ...        7.345240e-01  7.257016e-01  6.244603e-01  6.056471e-01   \n",
              "min        ...       -3.483038e+01 -1.093314e+01 -4.480774e+01 -2.836627e+00   \n",
              "25%        ...       -2.283949e-01 -5.423504e-01 -1.618463e-01 -3.545861e-01   \n",
              "50%        ...       -2.945017e-02  6.781943e-03 -1.119293e-02  4.097606e-02   \n",
              "75%        ...        1.863772e-01  5.285536e-01  1.476421e-01  4.395266e-01   \n",
              "max        ...        2.720284e+01  1.050309e+01  2.252841e+01  4.584549e+00   \n",
              "\n",
              "                V25           V26           V27           V28         Amount  \\\n",
              "count  2.848070e+05  2.848070e+05  2.848070e+05  2.848070e+05  284807.000000   \n",
              "mean   5.340915e-16  1.686512e-15 -3.684602e-16 -1.193648e-16      88.349619   \n",
              "std    5.212781e-01  4.822270e-01  4.036325e-01  3.300833e-01     250.120109   \n",
              "min   -1.029540e+01 -2.604551e+00 -2.256568e+01 -1.543008e+01       0.000000   \n",
              "25%   -3.171451e-01 -3.269839e-01 -7.083953e-02 -5.295979e-02       5.600000   \n",
              "50%    1.659350e-02 -5.213911e-02  1.342146e-03  1.124383e-02      22.000000   \n",
              "75%    3.507156e-01  2.409522e-01  9.104512e-02  7.827995e-02      77.165000   \n",
              "max    7.519589e+00  3.517346e+00  3.161220e+01  3.384781e+01   25691.160000   \n",
              "\n",
              "               Class  \n",
              "count  284807.000000  \n",
              "mean        0.001727  \n",
              "std         0.041527  \n",
              "min         0.000000  \n",
              "25%         0.000000  \n",
              "50%         0.000000  \n",
              "75%         0.000000  \n",
              "max         1.000000  \n",
              "\n",
              "[8 rows x 31 columns]"
            ]
          },
          "metadata": {
            "tags": []
          },
          "execution_count": 6
        }
      ]
    },
    {
      "cell_type": "markdown",
      "metadata": {
        "id": "NRxMR952hSmc",
        "colab_type": "text"
      },
      "source": [
        "### checking  the names of the columns we have in our data"
      ]
    },
    {
      "cell_type": "code",
      "metadata": {
        "id": "NB_MR2H2hSmd",
        "colab_type": "code",
        "outputId": "2dd8c71d-eb87-4ddc-d5f5-84bce7c79eb1",
        "colab": {}
      },
      "source": [
        "## checking  the names of the columns we have in our data\n",
        "\n",
        "data.columns"
      ],
      "execution_count": 0,
      "outputs": [
        {
          "output_type": "execute_result",
          "data": {
            "text/plain": [
              "Index(['Time', 'V1', 'V2', 'V3', 'V4', 'V5', 'V6', 'V7', 'V8', 'V9', 'V10',\n",
              "       'V11', 'V12', 'V13', 'V14', 'V15', 'V16', 'V17', 'V18', 'V19', 'V20',\n",
              "       'V21', 'V22', 'V23', 'V24', 'V25', 'V26', 'V27', 'V28', 'Amount',\n",
              "       'Class'],\n",
              "      dtype='object')"
            ]
          },
          "metadata": {
            "tags": []
          },
          "execution_count": 7
        }
      ]
    },
    {
      "cell_type": "markdown",
      "metadata": {
        "id": "3AumgoSBhSmm",
        "colab_type": "text"
      },
      "source": [
        "### checking any missing values"
      ]
    },
    {
      "cell_type": "code",
      "metadata": {
        "id": "psl7EBsPhSmn",
        "colab_type": "code",
        "outputId": "69cdd8e8-6f80-44aa-9f8f-db0d4b9bfc2f",
        "colab": {}
      },
      "source": [
        "data.isnull().sum().values.any()\n"
      ],
      "execution_count": 0,
      "outputs": [
        {
          "output_type": "execute_result",
          "data": {
            "text/plain": [
              "False"
            ]
          },
          "metadata": {
            "tags": []
          },
          "execution_count": 8
        }
      ]
    },
    {
      "cell_type": "markdown",
      "metadata": {
        "id": "hZ5dDFSmhSmv",
        "colab_type": "text"
      },
      "source": [
        "### checking whether the data is balanced "
      ]
    },
    {
      "cell_type": "code",
      "metadata": {
        "id": "-QZQR1pQhSmx",
        "colab_type": "code",
        "outputId": "e23b124e-c689-473c-897c-6d27702eef4c",
        "colab": {}
      },
      "source": [
        "Data=data[['Amount','Class']].groupby('Class').count()\n",
        "Data"
      ],
      "execution_count": 0,
      "outputs": [
        {
          "output_type": "execute_result",
          "data": {
            "text/html": [
              "<div>\n",
              "<style scoped>\n",
              "    .dataframe tbody tr th:only-of-type {\n",
              "        vertical-align: middle;\n",
              "    }\n",
              "\n",
              "    .dataframe tbody tr th {\n",
              "        vertical-align: top;\n",
              "    }\n",
              "\n",
              "    .dataframe thead th {\n",
              "        text-align: right;\n",
              "    }\n",
              "</style>\n",
              "<table border=\"1\" class=\"dataframe\">\n",
              "  <thead>\n",
              "    <tr style=\"text-align: right;\">\n",
              "      <th></th>\n",
              "      <th>Amount</th>\n",
              "    </tr>\n",
              "    <tr>\n",
              "      <th>Class</th>\n",
              "      <th></th>\n",
              "    </tr>\n",
              "  </thead>\n",
              "  <tbody>\n",
              "    <tr>\n",
              "      <th>0</th>\n",
              "      <td>284315</td>\n",
              "    </tr>\n",
              "    <tr>\n",
              "      <th>1</th>\n",
              "      <td>492</td>\n",
              "    </tr>\n",
              "  </tbody>\n",
              "</table>\n",
              "</div>"
            ],
            "text/plain": [
              "       Amount\n",
              "Class        \n",
              "0      284315\n",
              "1         492"
            ]
          },
          "metadata": {
            "tags": []
          },
          "execution_count": 9
        }
      ]
    },
    {
      "cell_type": "code",
      "metadata": {
        "id": "SNaIRIU0hSm4",
        "colab_type": "code",
        "outputId": "dfc2879b-215d-4698-df1d-766371517857",
        "colab": {
          "base_uri": "https://localhost:8080/",
          "height": 295
        }
      },
      "source": [
        "## Ploting the observations of the two classes\n",
        "\n",
        "sns.countplot(x='Class',data=data,label='0=Legitimate',palette=\"bwr\")\n",
        "sns.countplot(x='Class',data=data,label='1=fraudulent',palette=\"bwr\")\n",
        "plt.title('Legitimate and fraudulent transactions')\n",
        "plt.legend()\n",
        "plt.show()\n"
      ],
      "execution_count": 0,
      "outputs": [
        {
          "output_type": "display_data",
          "data": {
            "image/png": "[encoded data removed]",
            "text/plain": [
              "<Figure size 432x288 with 1 Axes>"
            ]
          },
          "metadata": {
            "tags": [],
            "needs_background": "light"
          }
        }
      ]
    },
    {
      "cell_type": "markdown",
      "metadata": {
        "id": "WrKY5p_KhSnB",
        "colab_type": "text"
      },
      "source": [
        "### Filtering the relevant features using a correlation matrix"
      ]
    },
    {
      "cell_type": "code",
      "metadata": {
        "id": "RVeEHx_7hSnD",
        "colab_type": "code",
        "outputId": "0bb2fdd6-3e34-44e1-debf-9221c9b33dbd",
        "colab": {}
      },
      "source": [
        "\n",
        "plt.figure(figsize = (12,12))\n",
        "plt.title('Features correlation plot using Pearson')\n",
        "corr = data.corr()## generating the correlation matrix\n",
        "##sns.heatmap(corr)-generating the correlation heatmap\n",
        "sns.heatmap(corr,xticklabels=corr.columns,yticklabels=corr.columns,linewidths=.1,cmap=\"seismic\")\n",
        "plt.show()"
      ],
      "execution_count": 0,
      "outputs": [
        {
          "output_type": "display_data",
          "data": {
            "image/png": "[encoded data removed]",
            "text/plain": [
              "<Figure size 864x864 with 2 Axes>"
            ]
          },
          "metadata": {
            "tags": [],
            "needs_background": "light"
          }
        }
      ]
    },
    {
      "cell_type": "markdown",
      "metadata": {
        "id": "DFh2WejohSnN",
        "colab_type": "text"
      },
      "source": [
        "From the correlation matrix we notice no correlation between the features V1-V28.\n",
        "\n",
        "The variable Amount has a negative correlation with variables V2 and V5 and a positive correlation with the variables V7 and V20.\n",
        "\n",
        "The variable time has a negative correlation with the vaarable V3."
      ]
    },
    {
      "cell_type": "markdown",
      "metadata": {
        "id": "eQLRXw2PhSnO",
        "colab_type": "text"
      },
      "source": [
        "### Standardizing the data "
      ]
    },
    {
      "cell_type": "code",
      "metadata": {
        "id": "ps8DLy8ThSnR",
        "colab_type": "code",
        "colab": {}
      },
      "source": [
        "## Standardizing the amount column \n",
        "data['normAmount'] = StandardScaler().fit_transform(np.array(data['Amount']).reshape(-1, 1)) \n",
        "  \n",
        "# drop Time and Amount columns as they are not relevant for prediction purpose  \n",
        "data = data.drop(['Time','Amount'], axis = 1) \n",
        "  "
      ],
      "execution_count": 0,
      "outputs": []
    },
    {
      "cell_type": "markdown",
      "metadata": {
        "id": "q5IPdq2hhSnX",
        "colab_type": "text"
      },
      "source": [
        "### Assigning x and y variables"
      ]
    },
    {
      "cell_type": "code",
      "metadata": {
        "id": "RapJboI9hSnY",
        "colab_type": "code",
        "colab": {}
      },
      "source": [
        "##assigning x and y\n",
        "##droping the predicted column\n",
        "\n",
        "y=data.Class\n",
        "x = data.drop('Class',axis=1)\n"
      ],
      "execution_count": 0,
      "outputs": []
    },
    {
      "cell_type": "code",
      "metadata": {
        "id": "uVBB83bChSnf",
        "colab_type": "code",
        "outputId": "774a93ee-d696-4026-83d1-25aaeee5d4df",
        "colab": {}
      },
      "source": [
        "## Checking the columns in the dataset\n",
        "\n",
        "data.columns"
      ],
      "execution_count": 0,
      "outputs": [
        {
          "output_type": "execute_result",
          "data": {
            "text/plain": [
              "Index(['V1', 'V2', 'V3', 'V4', 'V5', 'V6', 'V7', 'V8', 'V9', 'V10', 'V11',\n",
              "       'V12', 'V13', 'V14', 'V15', 'V16', 'V17', 'V18', 'V19', 'V20', 'V21',\n",
              "       'V22', 'V23', 'V24', 'V25', 'V26', 'V27', 'V28', 'Class', 'normAmount'],\n",
              "      dtype='object')"
            ]
          },
          "metadata": {
            "tags": []
          },
          "execution_count": 23
        }
      ]
    },
    {
      "cell_type": "markdown",
      "metadata": {
        "id": "ZKfC8UTfhSnm",
        "colab_type": "text"
      },
      "source": [
        "### Splitting the data into train and test"
      ]
    },
    {
      "cell_type": "code",
      "metadata": {
        "id": "-quP2eTVhSno",
        "colab_type": "code",
        "outputId": "5d050aa4-3a83-4ba4-c8b8-e0927b496147",
        "colab": {
          "base_uri": "https://localhost:8080/",
          "height": 88
        }
      },
      "source": [
        "## Splitting the data \n",
        "x_train, x_test, y_train, y_test = train_test_split(x, y, test_size = 0.3, random_state = 42) \n",
        "  \n",
        "## The shape of our train and test data \n",
        "print(\"Number of transactions in the X_train : \", x_train.shape) \n",
        "print(\"Number of transactions in the y_train : \", y_train.shape) \n",
        "print(\"Number of transactions in the X_test : \", x_test.shape) \n",
        "print(\"Number of transactions in the y_test : \", y_test.shape) "
      ],
      "execution_count": 0,
      "outputs": [
        {
          "output_type": "stream",
          "text": [
            "Number of transactions in the X_train :  (199364, 29)\n",
            "Number of transactions in the y_train :  (199364,)\n",
            "Number of transactions in the X_test :  (85443, 29)\n",
            "Number of transactions in the y_test :  (85443,)\n"
          ],
          "name": "stdout"
        }
      ]
    },
    {
      "cell_type": "code",
      "metadata": {
        "id": "8upuIlTnhSnv",
        "colab_type": "code",
        "outputId": "9ff6c8e6-f73d-4e0a-8cc1-f0a425abcb7e",
        "colab": {}
      },
      "source": [
        "## checking the number of columns after dropping our predicted column\n",
        "\n",
        "x.columns"
      ],
      "execution_count": 0,
      "outputs": [
        {
          "output_type": "execute_result",
          "data": {
            "text/plain": [
              "Index(['V1', 'V2', 'V3', 'V4', 'V5', 'V6', 'V7', 'V8', 'V9', 'V10', 'V11',\n",
              "       'V12', 'V13', 'V14', 'V15', 'V16', 'V17', 'V18', 'V19', 'V20', 'V21',\n",
              "       'V22', 'V23', 'V24', 'V25', 'V26', 'V27', 'V28', 'normAmount'],\n",
              "      dtype='object')"
            ]
          },
          "metadata": {
            "tags": []
          },
          "execution_count": 25
        }
      ]
    },
    {
      "cell_type": "code",
      "metadata": {
        "id": "kdahARPWhSn2",
        "colab_type": "code",
        "colab": {}
      },
      "source": [
        ""
      ],
      "execution_count": 0,
      "outputs": []
    },
    {
      "cell_type": "code",
      "metadata": {
        "id": "__8R5b60hSn9",
        "colab_type": "code",
        "colab": {}
      },
      "source": [
        ""
      ],
      "execution_count": 0,
      "outputs": []
    },
    {
      "cell_type": "code",
      "metadata": {
        "id": "TQNdOKX1hSoD",
        "colab_type": "code",
        "colab": {}
      },
      "source": [
        "## Evaluation metrics"
      ],
      "execution_count": 0,
      "outputs": []
    },
    {
      "cell_type": "markdown",
      "metadata": {
        "id": "JYdPbYgUhSoK",
        "colab_type": "text"
      },
      "source": [
        "##  Different classifiers used to create a model"
      ]
    },
    {
      "cell_type": "code",
      "metadata": {
        "id": "FCEDpVQKhSoL",
        "colab_type": "code",
        "colab": {}
      },
      "source": [
        ""
      ],
      "execution_count": 0,
      "outputs": []
    },
    {
      "cell_type": "markdown",
      "metadata": {
        "id": "A_VNHYdEhSoR",
        "colab_type": "text"
      },
      "source": [
        "## Random Forest"
      ]
    },
    {
      "cell_type": "markdown",
      "metadata": {
        "id": "2xF9rlYThSoS",
        "colab_type": "text"
      },
      "source": [
        "**Random Forest**\n",
        "\n",
        "**Advantages**\n",
        "\n",
        "- Does not suffer from overfiting because it takes the average of all the predictions, which cancels out the biases.\n",
        "\n",
        "**Disadvantages**\n",
        "\n",
        "- It is time-consuming because it has multiple decision trees and when making any prediction all the trees in the forest has to make prediction for the same input and then a vote is made and the prediction with the highest votes is taken as the final prediction.  \n"
      ]
    },
    {
      "cell_type": "markdown",
      "metadata": {
        "id": "ZEFR3nezhSoT",
        "colab_type": "text"
      },
      "source": [
        "### Fitting a Random Forest Model"
      ]
    },
    {
      "cell_type": "markdown",
      "metadata": {
        "id": "TKbGF7cVhSrd",
        "colab_type": "text"
      },
      "source": [
        "## Under sampling using Near miss"
      ]
    },
    {
      "cell_type": "code",
      "metadata": {
        "id": "xlBcnkGlhSre",
        "colab_type": "code",
        "outputId": "3b3be81a-795d-4cda-aef6-e8b544c40e11",
        "colab": {
          "base_uri": "https://localhost:8080/",
          "height": 393
        }
      },
      "source": [
        "## shape of the two classes before performing undersampling\n",
        "print(\"Before Undersampling, counts of label '1': {}\".format(sum(y_train == 1))) \n",
        "print(\"Before Undersampling, counts of label '0': {} \\n\".format(sum(y_train == 0))) \n",
        "  \n",
        "# apply near miss \n",
        "from imblearn.under_sampling import NearMiss \n",
        "nr = NearMiss(version=3) \n",
        "  \n",
        "x_train_miss, y_train_miss = nr.fit_sample(x_train, y_train.ravel()) \n",
        "  \n",
        "print('After Undersampling, the shape of train_X: {}'.format(x_train_miss.shape)) \n",
        "print('After Undersampling, the shape of train_y: {} \\n'.format(y_train_miss.shape))\n",
        " \n",
        "  ## Shape after performing the undersampling \n",
        "print(\"After Undersampling, counts of label '1': {}\".format(sum(y_train_miss == 1))) \n",
        "print(\"After Undersampling, counts of label '0': {}\".format(sum(y_train_miss == 0))) \n"
      ],
      "execution_count": 0,
      "outputs": [
        {
          "output_type": "stream",
          "text": [
            "Before Undersampling, counts of label '1': 356\n",
            "Before Undersampling, counts of label '0': 199008 \n",
            "\n"
          ],
          "name": "stdout"
        },
        {
          "output_type": "stream",
          "text": [
            "/usr/local/lib/python3.6/dist-packages/sklearn/utils/deprecation.py:87: FutureWarning: Function safe_indexing is deprecated; safe_indexing is deprecated in version 0.22 and will be removed in version 0.24.\n",
            "  warnings.warn(msg, category=FutureWarning)\n",
            "/usr/local/lib/python3.6/dist-packages/sklearn/utils/deprecation.py:87: FutureWarning: Function safe_indexing is deprecated; safe_indexing is deprecated in version 0.22 and will be removed in version 0.24.\n",
            "  warnings.warn(msg, category=FutureWarning)\n"
          ],
          "name": "stderr"
        },
        {
          "output_type": "stream",
          "text": [
            "After Undersampling, the shape of train_X: (656, 29)\n",
            "After Undersampling, the shape of train_y: (656,) \n",
            "\n",
            "After Undersampling, counts of label '1': 356\n",
            "After Undersampling, counts of label '0': 300\n"
          ],
          "name": "stdout"
        },
        {
          "output_type": "stream",
          "text": [
            "/usr/local/lib/python3.6/dist-packages/sklearn/utils/deprecation.py:87: FutureWarning: Function safe_indexing is deprecated; safe_indexing is deprecated in version 0.22 and will be removed in version 0.24.\n",
            "  warnings.warn(msg, category=FutureWarning)\n",
            "/usr/local/lib/python3.6/dist-packages/sklearn/utils/deprecation.py:87: FutureWarning: Function safe_indexing is deprecated; safe_indexing is deprecated in version 0.22 and will be removed in version 0.24.\n",
            "  warnings.warn(msg, category=FutureWarning)\n",
            "/usr/local/lib/python3.6/dist-packages/sklearn/utils/deprecation.py:87: FutureWarning: Function safe_indexing is deprecated; safe_indexing is deprecated in version 0.22 and will be removed in version 0.24.\n",
            "  warnings.warn(msg, category=FutureWarning)\n",
            "/usr/local/lib/python3.6/dist-packages/imblearn/under_sampling/_prototype_selection/_nearmiss.py:194: UserWarning: The number of the samples to be selected is larger than the number of samples available. The balancing ratio cannot be ensure and all samples will be returned.\n",
            "  warnings.warn('The number of the samples to be selected is larger'\n"
          ],
          "name": "stderr"
        }
      ]
    },
    {
      "cell_type": "code",
      "metadata": {
        "id": "qfTbVhtLhSrh",
        "colab_type": "code",
        "colab": {}
      },
      "source": [
        ""
      ],
      "execution_count": 0,
      "outputs": []
    },
    {
      "cell_type": "markdown",
      "metadata": {
        "id": "V6H3OSxthSrm",
        "colab_type": "text"
      },
      "source": [
        "## Random forest"
      ]
    },
    {
      "cell_type": "markdown",
      "metadata": {
        "id": "dSbo0D1QhSrm",
        "colab_type": "text"
      },
      "source": [
        "### Manual Hyperparameter tuning - RF -Nearmiss"
      ]
    },
    {
      "cell_type": "code",
      "metadata": {
        "id": "0um76WX6hSru",
        "colab_type": "code",
        "colab": {}
      },
      "source": [
        ""
      ],
      "execution_count": 0,
      "outputs": []
    },
    {
      "cell_type": "code",
      "metadata": {
        "id": "G5vO8MdXhSrx",
        "colab_type": "code",
        "colab": {}
      },
      "source": [
        "## n-estimator is the number of trees \n",
        "\n",
        "nearmiss = RandomForestClassifier(n_estimators=400,max_features='sqrt').fit(x_train_miss, y_train_miss.ravel())\n",
        "\n",
        "nearmiss_pred = nearmiss.predict(x_test) ## the predicted \n",
        "\n"
      ],
      "execution_count": 0,
      "outputs": []
    },
    {
      "cell_type": "markdown",
      "metadata": {
        "id": "FmfFKSgYhSru",
        "colab_type": "text"
      },
      "source": [
        "### Evaluation metrics on Random Forest and Near miss"
      ]
    },
    {
      "cell_type": "code",
      "metadata": {
        "id": "vzAZcyMXhSrz",
        "colab_type": "code",
        "outputId": "d6058ef8-9ecb-4dad-9450-ad7f8bfc285a",
        "colab": {
          "base_uri": "https://localhost:8080/",
          "height": 177
        }
      },
      "source": [
        "print(classification_report(y_test, nearmiss_pred))\n"
      ],
      "execution_count": 0,
      "outputs": [
        {
          "output_type": "stream",
          "text": [
            "              precision    recall  f1-score   support\n",
            "\n",
            "           0       1.00      1.00      1.00     85307\n",
            "           1       0.34      0.86      0.49       136\n",
            "\n",
            "    accuracy                           1.00     85443\n",
            "   macro avg       0.67      0.93      0.74     85443\n",
            "weighted avg       1.00      1.00      1.00     85443\n",
            "\n"
          ],
          "name": "stdout"
        }
      ]
    },
    {
      "cell_type": "markdown",
      "metadata": {
        "id": "cEud8vqqs0cn",
        "colab_type": "text"
      },
      "source": [
        "## Confusion matrix for Random Forest and NearMiss"
      ]
    },
    {
      "cell_type": "code",
      "metadata": {
        "id": "xulkX9qPuuze",
        "colab_type": "code",
        "outputId": "86e60df6-d6b8-43dc-d641-bb3ad929fafb",
        "colab": {
          "base_uri": "https://localhost:8080/",
          "height": 280
        }
      },
      "source": [
        "# Plot confusion matrix \n",
        "ax= plt.subplot()\n",
        "cf_matrix=pd.DataFrame(confusion_matrix(y_test, nearmiss_pred ))\n",
        "sns.heatmap(cf_matrix, annot=True, ax = ax, fmt = 'g',cmap=\"Purples\"); #annot=True to annotate cells\n",
        "# labels, title and ticks\n",
        "ax.set_xlabel('Predicted', fontsize=10)\n",
        "ax.xaxis.set_label_position('top') \n",
        "ax.xaxis.set_ticklabels(['Legitimate', 'Fraudulent'], fontsize = 10)\n",
        "ax.xaxis.tick_top()\n",
        "\n",
        "ax.set_ylabel('Actual', fontsize=10)\n",
        "ax.yaxis.set_ticklabels(['Legitimate', 'Fraudulent'], fontsize = 10)\n",
        "plt.show()\n"
      ],
      "execution_count": 0,
      "outputs": [
        {
          "output_type": "display_data",
          "data": {
            "image/png": "[encoded data removed]",
            "text/plain": [
              "<Figure size 432x288 with 2 Axes>"
            ]
          },
          "metadata": {
            "tags": []
          }
        }
      ]
    },
    {
      "cell_type": "code",
      "metadata": {
        "id": "IbeKys0Xx3by",
        "colab_type": "code",
        "colab": {}
      },
      "source": [
        ""
      ],
      "execution_count": 0,
      "outputs": []
    },
    {
      "cell_type": "code",
      "metadata": {
        "id": "ZlogRuU3x3hJ",
        "colab_type": "code",
        "colab": {}
      },
      "source": [
        ""
      ],
      "execution_count": 0,
      "outputs": []
    },
    {
      "cell_type": "markdown",
      "metadata": {
        "id": "dMRnYmquhSr6",
        "colab_type": "text"
      },
      "source": [
        "## Naive Bayes -Nearmiss"
      ]
    },
    {
      "cell_type": "code",
      "metadata": {
        "id": "oiPt4zfIhSr7",
        "colab_type": "code",
        "colab": {}
      },
      "source": [
        "#Create a Gaussian Classifier\n",
        "gaus_naive_mod = GaussianNB()\n",
        "\n",
        "# Train the model using the training sets\n",
        "gaus_naive_mod.fit(x_train_miss, y_train_miss.ravel())\n",
        "\n",
        "#Predict the response for test dataset\n",
        "Nby_pred = gaus_naive_mod.predict(x_test)\n"
      ],
      "execution_count": 0,
      "outputs": []
    },
    {
      "cell_type": "markdown",
      "metadata": {
        "id": "fq2Vy8HLtCmA",
        "colab_type": "text"
      },
      "source": [
        "## Evaluation metrics on Naive Bayes and NearMiss"
      ]
    },
    {
      "cell_type": "code",
      "metadata": {
        "id": "qBoV2LGUhSr9",
        "colab_type": "code",
        "outputId": "56967b09-43c4-4d26-c63d-af8a8db4f4c6",
        "colab": {
          "base_uri": "https://localhost:8080/",
          "height": 177
        }
      },
      "source": [
        "print(classification_report(y_test, Nby_pred))\n"
      ],
      "execution_count": 0,
      "outputs": [
        {
          "output_type": "stream",
          "text": [
            "              precision    recall  f1-score   support\n",
            "\n",
            "           0       1.00      0.99      1.00     85307\n",
            "           1       0.12      0.57      0.20       136\n",
            "\n",
            "    accuracy                           0.99     85443\n",
            "   macro avg       0.56      0.78      0.60     85443\n",
            "weighted avg       1.00      0.99      1.00     85443\n",
            "\n"
          ],
          "name": "stdout"
        }
      ]
    },
    {
      "cell_type": "markdown",
      "metadata": {
        "id": "hyEjcWS2tK1n",
        "colab_type": "text"
      },
      "source": [
        "## Confusion matrix for Naive Bayes and NearMiss"
      ]
    },
    {
      "cell_type": "code",
      "metadata": {
        "id": "xXTz7X04hSsG",
        "colab_type": "code",
        "outputId": "96aa8499-4d95-43b2-f428-1bd046516492",
        "colab": {
          "base_uri": "https://localhost:8080/",
          "height": 280
        }
      },
      "source": [
        "# Plot confusion matrix \n",
        "ax= plt.subplot()\n",
        "cF1_matrix=pd.DataFrame(confusion_matrix(y_test, Nby_pred))\n",
        "sns.heatmap(cF1_matrix, annot=True, ax = ax, fmt = 'g',cmap=\"Reds\"); #annot=True to annotate cells\n",
        "# labels, title and ticks\n",
        "ax.set_xlabel('Predicted', fontsize=10)\n",
        "ax.xaxis.set_label_position('top') \n",
        "ax.xaxis.set_ticklabels(['Legitimate', 'Fraudulent'], fontsize = 10)\n",
        "ax.xaxis.tick_top()\n",
        "\n",
        "ax.set_ylabel('Actual', fontsize=10)\n",
        "ax.yaxis.set_ticklabels(['Legitimate', 'Fraudulent'], fontsize = 10)\n",
        "plt.show()\n",
        "\n",
        "\n",
        "\n"
      ],
      "execution_count": 0,
      "outputs": [
        {
          "output_type": "display_data",
          "data": {
            "image/png": "[encoded data removed]",
            "text/plain": [
              "<Figure size 432x288 with 2 Axes>"
            ]
          },
          "metadata": {
            "tags": []
          }
        }
      ]
    },
    {
      "cell_type": "markdown",
      "metadata": {
        "id": "bcen84J0hSsJ",
        "colab_type": "text"
      },
      "source": [
        "## K-Nearest Neighbor (K-NN)"
      ]
    },
    {
      "cell_type": "markdown",
      "metadata": {
        "id": "8j5RQBH-hSsK",
        "colab_type": "text"
      },
      "source": [
        "### Manual Hyperparameter tuning on K-NN and NearMiss"
      ]
    },
    {
      "cell_type": "code",
      "metadata": {
        "id": "E2CHcKg3hSsR",
        "colab_type": "code",
        "colab": {}
      },
      "source": [
        "classifier = KNeighborsClassifier(n_neighbors=7,p=2,metric='euclidean') ##n-neighbor is the number of nearest neighbor and euclidean is the distance metric used\n",
        "classifier.fit(x_train_miss, y_train_miss.ravel())\n",
        "Knn_Pred=classifier.predict(x_test) ## the predicted "
      ],
      "execution_count": 0,
      "outputs": []
    },
    {
      "cell_type": "markdown",
      "metadata": {
        "id": "fiSon1sPhSsR",
        "colab_type": "text"
      },
      "source": [
        "### Evaluation metrics on K-NN and NearMiss"
      ]
    },
    {
      "cell_type": "code",
      "metadata": {
        "id": "y0NJ9YechSsU",
        "colab_type": "code",
        "outputId": "a58ed817-4020-4553-a9f5-645eb6d24471",
        "colab": {
          "base_uri": "https://localhost:8080/",
          "height": 177
        }
      },
      "source": [
        "## The precision,recall and f1-score\n",
        "\n",
        "print(classification_report(y_test, Knn_Pred))\n"
      ],
      "execution_count": 0,
      "outputs": [
        {
          "output_type": "stream",
          "text": [
            "              precision    recall  f1-score   support\n",
            "\n",
            "           0       1.00      1.00      1.00     85307\n",
            "           1       0.45      0.81      0.58       136\n",
            "\n",
            "    accuracy                           1.00     85443\n",
            "   macro avg       0.72      0.90      0.79     85443\n",
            "weighted avg       1.00      1.00      1.00     85443\n",
            "\n"
          ],
          "name": "stdout"
        }
      ]
    },
    {
      "cell_type": "markdown",
      "metadata": {
        "id": "8d9FW-ZlvUS9",
        "colab_type": "text"
      },
      "source": [
        "## Confusion matrix of K-NN and NearMiss"
      ]
    },
    {
      "cell_type": "code",
      "metadata": {
        "id": "UHvpF3o0hSsX",
        "colab_type": "code",
        "outputId": "d9aad232-8ff8-49f5-9311-22826ff8e0df",
        "colab": {
          "base_uri": "https://localhost:8080/",
          "height": 280
        }
      },
      "source": [
        "# Plot confusion matrix \n",
        "ax= plt.subplot()\n",
        "Cf_matrix=pd.DataFrame(confusion_matrix(y_test, Knn_Pred))\n",
        "sns.heatmap(Cf_matrix, annot=True, ax = ax, fmt = 'g',cmap=\"Greens\"); #annot=True to annotate cells\n",
        "# labels, title and ticks\n",
        "ax.set_xlabel('Predicted', fontsize=10)\n",
        "ax.xaxis.set_label_position('top') \n",
        "ax.xaxis.set_ticklabels(['Legitimate', 'Fraudulent'], fontsize = 10)\n",
        "ax.xaxis.tick_top()\n",
        "\n",
        "ax.set_ylabel('Actual', fontsize=10)\n",
        "ax.yaxis.set_ticklabels(['Legitimate', 'Fraudulent'], fontsize = 10)\n",
        "plt.show()\n",
        "\n"
      ],
      "execution_count": 0,
      "outputs": [
        {
          "output_type": "display_data",
          "data": {
            "image/png": "[encoded data removed]",
            "text/plain": [
              "<Figure size 432x288 with 2 Axes>"
            ]
          },
          "metadata": {
            "tags": []
          }
        }
      ]
    },
    {
      "cell_type": "code",
      "metadata": {
        "id": "dbD7jhGdhSsZ",
        "colab_type": "code",
        "colab": {}
      },
      "source": [
        ""
      ],
      "execution_count": 0,
      "outputs": []
    },
    {
      "cell_type": "markdown",
      "metadata": {
        "id": "77Vbn_s_hSsc",
        "colab_type": "text"
      },
      "source": [
        "## SVM -Nearmiss"
      ]
    },
    {
      "cell_type": "code",
      "metadata": {
        "id": "iocFw83Gvx2v",
        "colab_type": "code",
        "colab": {}
      },
      "source": [
        "svclassifier = SVC(kernel='linear',C=0.001) ## Kernel tfunction is the linear and the C is the cost function \n",
        "svclassifier.fit(x_train_miss, y_train_miss)\n",
        "SVc_Pred=svclassifier.predict(x_test)"
      ],
      "execution_count": 0,
      "outputs": []
    },
    {
      "cell_type": "markdown",
      "metadata": {
        "id": "BimR4Ag3wANO",
        "colab_type": "text"
      },
      "source": [
        "## Evaluation matrix for SVM and NearMiss"
      ]
    },
    {
      "cell_type": "code",
      "metadata": {
        "id": "tOP6RnLmhSse",
        "colab_type": "code",
        "outputId": "b05a6806-a05d-4a56-b1bc-18aa59442ace",
        "colab": {
          "base_uri": "https://localhost:8080/",
          "height": 177
        }
      },
      "source": [
        "# print classification report \n",
        "print(classification_report(y_test, SVc_Pred )) "
      ],
      "execution_count": 0,
      "outputs": [
        {
          "output_type": "stream",
          "text": [
            "              precision    recall  f1-score   support\n",
            "\n",
            "           0       1.00      1.00      1.00     85307\n",
            "           1       0.80      0.82      0.81       136\n",
            "\n",
            "    accuracy                           1.00     85443\n",
            "   macro avg       0.90      0.91      0.90     85443\n",
            "weighted avg       1.00      1.00      1.00     85443\n",
            "\n"
          ],
          "name": "stdout"
        }
      ]
    },
    {
      "cell_type": "markdown",
      "metadata": {
        "id": "x1Aiav0Mv0nt",
        "colab_type": "text"
      },
      "source": [
        "## Confusion matrix for SVM and NearMiss"
      ]
    },
    {
      "cell_type": "code",
      "metadata": {
        "id": "4rfb7MiOhSsh",
        "colab_type": "code",
        "outputId": "d29333c2-502a-4529-dc3f-4cdd56d30d77",
        "colab": {
          "base_uri": "https://localhost:8080/",
          "height": 277
        }
      },
      "source": [
        "# Plot confusion matrix \n",
        "ax= plt.subplot()\n",
        "Conf2_matrix=pd.DataFrame(confusion_matrix(y_test, SVc_Pred))\n",
        "sns.heatmap(Conf2_matrix, annot=True, ax = ax, fmt = 'g',cmap=\"Blues\"); #annot=True to annotate cells\n",
        "# labels, title and ticks\n",
        "ax.set_xlabel('Predicted', fontsize=10)\n",
        "ax.xaxis.set_label_position('top') \n",
        "ax.xaxis.set_ticklabels(['Legitimate', 'Fraudulent'], fontsize = 10)\n",
        "ax.xaxis.tick_top()\n",
        "\n",
        "ax.set_ylabel('Actual', fontsize=10)\n",
        "ax.yaxis.set_ticklabels(['Legitimate', 'Fraudulent'], fontsize = 10)\n",
        "plt.show()\n",
        "\n",
        "\n",
        "\n"
      ],
      "execution_count": 0,
      "outputs": [
        {
          "output_type": "display_data",
          "data": {
            "image/png": "[encoded data removed]",
            "text/plain": [
              "<Figure size 432x288 with 2 Axes>"
            ]
          },
          "metadata": {
            "tags": [],
            "needs_background": "light"
          }
        }
      ]
    },
    {
      "cell_type": "markdown",
      "metadata": {
        "id": "2fCMQRYlhSsj",
        "colab_type": "text"
      },
      "source": [
        "## Resampling using Oversampling(SMOTE) followed by under sampling(Tomek links)"
      ]
    },
    {
      "cell_type": "code",
      "metadata": {
        "id": "hJEQdBDrhSsk",
        "colab_type": "code",
        "outputId": "68ee3d76-fdfe-4c00-86d9-6d5901fd4c9f",
        "colab": {
          "base_uri": "https://localhost:8080/",
          "height": 108
        }
      },
      "source": [
        "smt = SMOTETomek(random_state=2)\n",
        "x_train_smt, y_train_smt = smt.fit_sample(x_train, y_train)\n"
      ],
      "execution_count": 0,
      "outputs": [
        {
          "output_type": "stream",
          "text": [
            "/usr/local/lib/python3.6/dist-packages/sklearn/utils/deprecation.py:87: FutureWarning: Function safe_indexing is deprecated; safe_indexing is deprecated in version 0.22 and will be removed in version 0.24.\n",
            "  warnings.warn(msg, category=FutureWarning)\n",
            "/usr/local/lib/python3.6/dist-packages/sklearn/utils/deprecation.py:87: FutureWarning: Function safe_indexing is deprecated; safe_indexing is deprecated in version 0.22 and will be removed in version 0.24.\n",
            "  warnings.warn(msg, category=FutureWarning)\n"
          ],
          "name": "stderr"
        }
      ]
    },
    {
      "cell_type": "code",
      "metadata": {
        "id": "CY_4zNOEhSso",
        "colab_type": "code",
        "outputId": "17f452d3-d085-4251-aca4-6e2228138bf3",
        "colab": {}
      },
      "source": [
        "## Checking the shape of the x-train\n",
        "\n",
        "print(\"The shape is:\",x_train_smt.shape)"
      ],
      "execution_count": 0,
      "outputs": [
        {
          "output_type": "stream",
          "text": [
            "The shape is: (398016, 29)\n"
          ],
          "name": "stdout"
        }
      ]
    },
    {
      "cell_type": "code",
      "metadata": {
        "id": "N_7KNd31hSst",
        "colab_type": "code",
        "outputId": "02502545-5103-425f-b906-cf496cd954e1",
        "colab": {}
      },
      "source": [
        "## Checking the shape of the y-train\n",
        "\n",
        "y_train_smt.shape"
      ],
      "execution_count": 0,
      "outputs": [
        {
          "output_type": "execute_result",
          "data": {
            "text/plain": [
              "(398016,)"
            ]
          },
          "metadata": {
            "tags": []
          },
          "execution_count": 38
        }
      ]
    },
    {
      "cell_type": "markdown",
      "metadata": {
        "id": "L-apuMz7hSsx",
        "colab_type": "text"
      },
      "source": [
        "## KNN"
      ]
    },
    {
      "cell_type": "markdown",
      "metadata": {
        "id": "siHIB_OPhSsx",
        "colab_type": "text"
      },
      "source": [
        "### Manual Hyperparameter Tuning -KNN- Smote+tomeklink"
      ]
    },
    {
      "cell_type": "code",
      "metadata": {
        "id": "a4HimQZ4hSs2",
        "colab_type": "code",
        "colab": {}
      },
      "source": [
        "classifier = KNeighborsClassifier(n_neighbors=5,p=2,metric='euclidean') ##n-neighbor is the number of nearest neighbor and euclidean is the distance metric used\n",
        "classifier.fit(x_train_smt, y_train_smt.ravel())\n",
        "Knn_pred=classifier.predict(x_test)"
      ],
      "execution_count": 0,
      "outputs": []
    },
    {
      "cell_type": "markdown",
      "metadata": {
        "id": "OICe4R0ahSs2",
        "colab_type": "text"
      },
      "source": [
        "### Evaluation Metrics on K-NN and smote+tomek link"
      ]
    },
    {
      "cell_type": "code",
      "metadata": {
        "id": "Y_IAuHoPhStI",
        "colab_type": "code",
        "outputId": "c7078cca-c649-419f-b19d-fcc873472b7f",
        "colab": {
          "base_uri": "https://localhost:8080/",
          "height": 177
        }
      },
      "source": [
        "## The precision,recall and f1-score\n",
        "\n",
        "print(classification_report(y_test, Knn_pred))\n"
      ],
      "execution_count": 0,
      "outputs": [
        {
          "output_type": "stream",
          "text": [
            "              precision    recall  f1-score   support\n",
            "\n",
            "           0       1.00      1.00      1.00     85307\n",
            "           1       0.45      0.90      0.60       136\n",
            "\n",
            "    accuracy                           1.00     85443\n",
            "   macro avg       0.72      0.95      0.80     85443\n",
            "weighted avg       1.00      1.00      1.00     85443\n",
            "\n"
          ],
          "name": "stdout"
        }
      ]
    },
    {
      "cell_type": "markdown",
      "metadata": {
        "id": "HjP9CB7i26e8",
        "colab_type": "text"
      },
      "source": [
        "## Confusion matrix on K-NN and SMOTE and Tomek Links"
      ]
    },
    {
      "cell_type": "code",
      "metadata": {
        "id": "fDqNOm0thStM",
        "colab_type": "code",
        "outputId": "a10f8e2d-2d9d-4762-b3fa-e0b7c2863e00",
        "colab": {
          "base_uri": "https://localhost:8080/",
          "height": 280
        }
      },
      "source": [
        "# Plot confusion matrix \n",
        "ax= plt.subplot()\n",
        "Cf1_matrix=pd.DataFrame(confusion_matrix(y_test, Knn_pred))\n",
        "sns.heatmap(Cf1_matrix, annot=True, ax = ax, fmt = 'g',cmap=\"Greens\"); #annot=True to annotate cells\n",
        "# labels, title and ticks\n",
        "ax.set_xlabel('Predicted', fontsize=10)\n",
        "ax.xaxis.set_label_position('top') \n",
        "ax.xaxis.set_ticklabels(['Legitimate', 'Fraudulent'], fontsize = 10)\n",
        "ax.xaxis.tick_top()\n",
        "\n",
        "ax.set_ylabel('Actual', fontsize=10)\n",
        "ax.yaxis.set_ticklabels(['Legitimate', 'Fraudulent'], fontsize = 10)\n",
        "plt.show()\n",
        "\n"
      ],
      "execution_count": 0,
      "outputs": [
        {
          "output_type": "display_data",
          "data": {
            "image/png": "[encoded data removed]",
            "text/plain": [
              "<Figure size 432x288 with 2 Axes>"
            ]
          },
          "metadata": {
            "tags": []
          }
        }
      ]
    },
    {
      "cell_type": "code",
      "metadata": {
        "id": "i7kW2XWZhStP",
        "colab_type": "code",
        "colab": {}
      },
      "source": [
        ""
      ],
      "execution_count": 0,
      "outputs": []
    },
    {
      "cell_type": "code",
      "metadata": {
        "id": "of7s1GEshStc",
        "colab_type": "code",
        "colab": {}
      },
      "source": [
        ""
      ],
      "execution_count": 0,
      "outputs": []
    },
    {
      "cell_type": "code",
      "metadata": {
        "id": "ZkX2Ub4shSte",
        "colab_type": "code",
        "colab": {}
      },
      "source": [
        ""
      ],
      "execution_count": 0,
      "outputs": []
    },
    {
      "cell_type": "markdown",
      "metadata": {
        "id": "kbAjxzlNhSth",
        "colab_type": "text"
      },
      "source": [
        "## Random Forest"
      ]
    },
    {
      "cell_type": "markdown",
      "metadata": {
        "id": "xxi5KVMchSti",
        "colab_type": "text"
      },
      "source": [
        "### Manual Hyperparameter Tuning -Rf- Smote + Tomeklink"
      ]
    },
    {
      "cell_type": "code",
      "metadata": {
        "id": "D0SwoYThhStq",
        "colab_type": "code",
        "colab": {}
      },
      "source": [
        "smotek = RandomForestClassifier(n_estimators=400,max_features='sqrt').fit(x_train_smt, y_train_smt.ravel()) ## n-estimator is the number of trees \n",
        "\n",
        "\n",
        "smotek_pred = smotek.predict(x_test) ## The predicted\n"
      ],
      "execution_count": 0,
      "outputs": []
    },
    {
      "cell_type": "markdown",
      "metadata": {
        "id": "BMkTPxXuhStq",
        "colab_type": "text"
      },
      "source": [
        "### Eevaluation metrics on smote and Tomek link and Random forest"
      ]
    },
    {
      "cell_type": "code",
      "metadata": {
        "id": "wc9rqwY5hStt",
        "colab_type": "code",
        "outputId": "a4e11d28-23ab-4e04-cae5-2abc368136c8",
        "colab": {
          "base_uri": "https://localhost:8080/",
          "height": 177
        }
      },
      "source": [
        "## The precision,recall and f1-score\n",
        "\n",
        "print(classification_report(y_test, smotek_pred))\n"
      ],
      "execution_count": 0,
      "outputs": [
        {
          "output_type": "stream",
          "text": [
            "              precision    recall  f1-score   support\n",
            "\n",
            "           0       1.00      1.00      1.00     85307\n",
            "           1       0.86      0.87      0.86       136\n",
            "\n",
            "    accuracy                           1.00     85443\n",
            "   macro avg       0.93      0.93      0.93     85443\n",
            "weighted avg       1.00      1.00      1.00     85443\n",
            "\n"
          ],
          "name": "stdout"
        }
      ]
    },
    {
      "cell_type": "markdown",
      "metadata": {
        "id": "_NNuSoXq3dSR",
        "colab_type": "text"
      },
      "source": [
        "## Confusion matrix on random forest an SMOTE and Tomek Links"
      ]
    },
    {
      "cell_type": "code",
      "metadata": {
        "id": "9EZlG7MohStw",
        "colab_type": "code",
        "outputId": "f1a8b43a-3de7-439b-ffb7-fc9b9eac1cd3",
        "colab": {
          "base_uri": "https://localhost:8080/",
          "height": 280
        }
      },
      "source": [
        "# Plot confusion matrix \n",
        "ax= plt.subplot()\n",
        "cf1_matrix=pd.DataFrame(confusion_matrix(y_test, smotek_pred))\n",
        "sns.heatmap(cf1_matrix, annot=True, ax = ax, fmt = 'g',cmap=\"Purples\"); #annot=True to annotate cells\n",
        "# labels, title and ticks\n",
        "ax.set_xlabel('Predicted', fontsize=10)\n",
        "ax.xaxis.set_label_position('top') \n",
        "ax.xaxis.set_ticklabels(['Legitimate', 'Fraudulent'], fontsize = 10)\n",
        "ax.xaxis.tick_top()\n",
        "\n",
        "ax.set_ylabel('Actual', fontsize=10)\n",
        "ax.yaxis.set_ticklabels(['Legitimate', 'Fraudulent'], fontsize = 10)\n",
        "plt.show()\n",
        "\n",
        "\n"
      ],
      "execution_count": 0,
      "outputs": [
        {
          "output_type": "display_data",
          "data": {
            "image/png": "[encoded data removed]",
            "text/plain": [
              "<Figure size 432x288 with 2 Axes>"
            ]
          },
          "metadata": {
            "tags": []
          }
        }
      ]
    },
    {
      "cell_type": "code",
      "metadata": {
        "id": "jihqZsWN3pp7",
        "colab_type": "code",
        "colab": {}
      },
      "source": [
        ""
      ],
      "execution_count": 0,
      "outputs": []
    },
    {
      "cell_type": "code",
      "metadata": {
        "id": "e_nNNjgV3qDT",
        "colab_type": "code",
        "colab": {}
      },
      "source": [
        ""
      ],
      "execution_count": 0,
      "outputs": []
    },
    {
      "cell_type": "markdown",
      "metadata": {
        "id": "WRyYajzkhStz",
        "colab_type": "text"
      },
      "source": [
        "## Naive Bayes -Smote + tomek links"
      ]
    },
    {
      "cell_type": "code",
      "metadata": {
        "id": "VWIJKJ1VhStz",
        "colab_type": "code",
        "colab": {}
      },
      "source": [
        "#Create a Gaussian Classifier\n",
        "gaus_naive_mod = GaussianNB()\n",
        "\n",
        "# Train the model using the training sets\n",
        "gaus_naive_mod.fit(x_train_smt, y_train_smt.ravel())\n",
        "\n",
        "#Predict the response for test dataset\n",
        "Nnby_pred = gaus_naive_mod.predict(x_test)\n"
      ],
      "execution_count": 0,
      "outputs": []
    },
    {
      "cell_type": "markdown",
      "metadata": {
        "id": "YH9MT-1h3sLz",
        "colab_type": "text"
      },
      "source": [
        "## Evaluation metrics on Naive Bayes and SMOTE and Tomek Links"
      ]
    },
    {
      "cell_type": "code",
      "metadata": {
        "id": "LcGQN5APhSt2",
        "colab_type": "code",
        "outputId": "e7fa6ac4-529e-4f4b-adba-9425b78ca0d0",
        "colab": {
          "base_uri": "https://localhost:8080/",
          "height": 177
        }
      },
      "source": [
        "## The precision,recall and f1-score\n",
        "\n",
        "print(classification_report(y_test, Nnby_pred))\n"
      ],
      "execution_count": 0,
      "outputs": [
        {
          "output_type": "stream",
          "text": [
            "              precision    recall  f1-score   support\n",
            "\n",
            "           0       1.00      0.98      0.99     85307\n",
            "           1       0.06      0.88      0.11       136\n",
            "\n",
            "    accuracy                           0.98     85443\n",
            "   macro avg       0.53      0.93      0.55     85443\n",
            "weighted avg       1.00      0.98      0.99     85443\n",
            "\n"
          ],
          "name": "stdout"
        }
      ]
    },
    {
      "cell_type": "markdown",
      "metadata": {
        "id": "Itr0SuJe3201",
        "colab_type": "text"
      },
      "source": [
        "## Confusion matrix of Naive Bayes and SMOTE and Tomek Links"
      ]
    },
    {
      "cell_type": "code",
      "metadata": {
        "id": "CSC7oTeWhSt4",
        "colab_type": "code",
        "outputId": "85c8c352-9028-4d2c-82ed-9aa595a500f9",
        "colab": {
          "base_uri": "https://localhost:8080/",
          "height": 280
        }
      },
      "source": [
        "# Plot confusion matrix \n",
        "ax= plt.subplot()\n",
        "Cf3_matrix=pd.DataFrame(confusion_matrix(y_test, Nnby_pred))\n",
        "sns.heatmap(Cf3_matrix, annot=True, ax = ax, fmt = 'g',cmap=\"Reds\"); #annot=True to annotate cells\n",
        "# labels, title and ticks\n",
        "ax.set_xlabel('Predicted', fontsize=10)\n",
        "ax.xaxis.set_label_position('top') \n",
        "ax.xaxis.set_ticklabels(['Legitimate', 'Fraudulent'], fontsize = 10)\n",
        "ax.xaxis.tick_top()\n",
        "\n",
        "ax.set_ylabel('Actual', fontsize=10)\n",
        "ax.yaxis.set_ticklabels(['Legitimate', 'Fraudulent'], fontsize = 10)\n",
        "plt.show()\n",
        "\n",
        "\n"
      ],
      "execution_count": 0,
      "outputs": [
        {
          "output_type": "display_data",
          "data": {
            "image/png": "[encoded data removed]",
            "text/plain": [
              "<Figure size 432x288 with 2 Axes>"
            ]
          },
          "metadata": {
            "tags": []
          }
        }
      ]
    },
    {
      "cell_type": "code",
      "metadata": {
        "id": "_pNxgoIDhSt7",
        "colab_type": "code",
        "colab": {}
      },
      "source": [
        ""
      ],
      "execution_count": 0,
      "outputs": []
    },
    {
      "cell_type": "code",
      "metadata": {
        "id": "LZTrPXfQ4ClZ",
        "colab_type": "code",
        "colab": {}
      },
      "source": [
        ""
      ],
      "execution_count": 0,
      "outputs": []
    },
    {
      "cell_type": "markdown",
      "metadata": {
        "id": "-TTe13qEhSuD",
        "colab_type": "text"
      },
      "source": [
        "## SVM -SMOTE+Tomek links removals"
      ]
    },
    {
      "cell_type": "code",
      "metadata": {
        "id": "Qz9LzZYXhSuD",
        "colab_type": "code",
        "colab": {}
      },
      "source": [
        "svclassifier = SVC(kernel='linear',C=0.01) ## Kernel tfunction is the linear and the C is the cost function \n",
        "svclassifier.fit(x_train_smt, y_train_smt)\n",
        "SVC_pred=svclassifier.predict(x_test)"
      ],
      "execution_count": 0,
      "outputs": []
    },
    {
      "cell_type": "markdown",
      "metadata": {
        "id": "76CA9YJ84MaX",
        "colab_type": "text"
      },
      "source": [
        "## Evaluation Metrics on SVM and SMOTE and Tomek Links"
      ]
    },
    {
      "cell_type": "code",
      "metadata": {
        "id": "uRZhr6_jhSuF",
        "colab_type": "code",
        "outputId": "3f3c47f6-d4f2-4f7a-c5cf-31260e28e8c1",
        "colab": {
          "base_uri": "https://localhost:8080/",
          "height": 177
        }
      },
      "source": [
        "# print classification report \n",
        "print(classification_report(y_test, SVC_pred )) "
      ],
      "execution_count": 0,
      "outputs": [
        {
          "output_type": "stream",
          "text": [
            "              precision    recall  f1-score   support\n",
            "\n",
            "           0       1.00      0.97      0.99     85307\n",
            "           1       0.06      0.93      0.11       136\n",
            "\n",
            "    accuracy                           0.97     85443\n",
            "   macro avg       0.53      0.95      0.55     85443\n",
            "weighted avg       1.00      0.97      0.99     85443\n",
            "\n"
          ],
          "name": "stdout"
        }
      ]
    },
    {
      "cell_type": "markdown",
      "metadata": {
        "id": "Dqwz_RGf4XI5",
        "colab_type": "text"
      },
      "source": [
        "## Confusion matrix of SVM and SMOTE and Tomek Links Removal"
      ]
    },
    {
      "cell_type": "code",
      "metadata": {
        "id": "GuEzPmR7hSuK",
        "colab_type": "code",
        "outputId": "5c60fd94-65a1-4bf2-e514-32b6386f9d32",
        "colab": {
          "base_uri": "https://localhost:8080/",
          "height": 277
        }
      },
      "source": [
        "# Plot confusion matrix \n",
        "ax= plt.subplot()\n",
        "Conf2_matrix=pd.DataFrame(confusion_matrix(y_test, SVC_pred))\n",
        "sns.heatmap(Conf2_matrix, annot=True, ax = ax, fmt = 'g',cmap=\"Blues\"); #annot=True to annotate cells\n",
        "# labels, title and ticks\n",
        "ax.set_xlabel('Predicted', fontsize=10)\n",
        "ax.xaxis.set_label_position('top') \n",
        "ax.xaxis.set_ticklabels(['Legitimate', 'Fraudulent'], fontsize = 10)\n",
        "ax.xaxis.tick_top()\n",
        "\n",
        "ax.set_ylabel('Actual', fontsize=10)\n",
        "ax.yaxis.set_ticklabels(['Legitimate', 'Fraudulent'], fontsize = 10)\n",
        "plt.show()\n",
        "\n"
      ],
      "execution_count": 0,
      "outputs": [
        {
          "output_type": "display_data",
          "data": {
            "image/png": "[encoded data removed]",
            "text/plain": [
              "<Figure size 432x288 with 2 Axes>"
            ]
          },
          "metadata": {
            "tags": [],
            "needs_background": "light"
          }
        }
      ]
    },
    {
      "cell_type": "code",
      "metadata": {
        "id": "SSlwWSLO4iB_",
        "colab_type": "code",
        "colab": {}
      },
      "source": [
        ""
      ],
      "execution_count": 0,
      "outputs": []
    },
    {
      "cell_type": "code",
      "metadata": {
        "id": "giQ5vfVX4iO_",
        "colab_type": "code",
        "colab": {}
      },
      "source": [
        ""
      ],
      "execution_count": 0,
      "outputs": []
    },
    {
      "cell_type": "markdown",
      "metadata": {
        "id": "Rbu347uNhSut",
        "colab_type": "text"
      },
      "source": [
        "## Resampling using Undersampling(ENN rule) followed by undersampling(CNN rule)"
      ]
    },
    {
      "cell_type": "markdown",
      "metadata": {
        "id": "3N2_NqdfhSuu",
        "colab_type": "text"
      },
      "source": [
        "## Edited Nearest Neighbor and Condensed Nearest Neighbor"
      ]
    },
    {
      "cell_type": "code",
      "metadata": {
        "id": "m_8t40X1hSuu",
        "colab_type": "code",
        "outputId": "c7a6fb58-6cf6-498e-f0a2-de4944596ab8",
        "colab": {
          "base_uri": "https://localhost:8080/",
          "height": 179
        }
      },
      "source": [
        "Ncr=NeighbourhoodCleaningRule()\n",
        "x_train_ncr, y_train_ncr= Ncr.fit_resample(x_train, y_train.ravel())"
      ],
      "execution_count": 0,
      "outputs": [
        {
          "output_type": "stream",
          "text": [
            "/usr/local/lib/python3.6/dist-packages/sklearn/utils/deprecation.py:87: FutureWarning: Function safe_indexing is deprecated; safe_indexing is deprecated in version 0.22 and will be removed in version 0.24.\n",
            "  warnings.warn(msg, category=FutureWarning)\n",
            "/usr/local/lib/python3.6/dist-packages/sklearn/utils/deprecation.py:87: FutureWarning: Function safe_indexing is deprecated; safe_indexing is deprecated in version 0.22 and will be removed in version 0.24.\n",
            "  warnings.warn(msg, category=FutureWarning)\n",
            "/usr/local/lib/python3.6/dist-packages/sklearn/utils/deprecation.py:87: FutureWarning: Function safe_indexing is deprecated; safe_indexing is deprecated in version 0.22 and will be removed in version 0.24.\n",
            "  warnings.warn(msg, category=FutureWarning)\n",
            "/usr/local/lib/python3.6/dist-packages/sklearn/utils/deprecation.py:87: FutureWarning: Function safe_indexing is deprecated; safe_indexing is deprecated in version 0.22 and will be removed in version 0.24.\n",
            "  warnings.warn(msg, category=FutureWarning)\n"
          ],
          "name": "stderr"
        }
      ]
    },
    {
      "cell_type": "markdown",
      "metadata": {
        "id": "Pm6syL5ChSuw",
        "colab_type": "text"
      },
      "source": [
        "## Random Forest and ENN and CNN"
      ]
    },
    {
      "cell_type": "markdown",
      "metadata": {
        "id": "Ag1vkQOhhSux",
        "colab_type": "text"
      },
      "source": [
        "### Manual Hyperparameter tuning - RF -ENN+CNN"
      ]
    },
    {
      "cell_type": "code",
      "metadata": {
        "id": "TVf2BsKshSu4",
        "colab_type": "code",
        "colab": {}
      },
      "source": [
        "ecnn = RandomForestClassifier(n_estimators=400,max_features='sqrt').fit(x_train_ncr, y_train_ncr.ravel())\n",
        "\n",
        "ecnn_pred = ecnn.predict(x_test)\n",
        "\n"
      ],
      "execution_count": 0,
      "outputs": []
    },
    {
      "cell_type": "markdown",
      "metadata": {
        "id": "mZeuYbB7hSu4",
        "colab_type": "text"
      },
      "source": [
        "### Evaluation metrics on Random Forest - ENN+CNN"
      ]
    },
    {
      "cell_type": "code",
      "metadata": {
        "id": "I2voVCAUhSu6",
        "colab_type": "code",
        "outputId": "246571ac-e3ca-4a48-baba-f6096bc21640",
        "colab": {
          "base_uri": "https://localhost:8080/",
          "height": 177
        }
      },
      "source": [
        "# print classification report \n",
        "print(classification_report(y_test, ecnn_pred)) \n"
      ],
      "execution_count": 0,
      "outputs": [
        {
          "output_type": "stream",
          "text": [
            "              precision    recall  f1-score   support\n",
            "\n",
            "           0       1.00      1.00      1.00     85307\n",
            "           1       0.84      0.84      0.84       136\n",
            "\n",
            "    accuracy                           1.00     85443\n",
            "   macro avg       0.92      0.92      0.92     85443\n",
            "weighted avg       1.00      1.00      1.00     85443\n",
            "\n"
          ],
          "name": "stdout"
        }
      ]
    },
    {
      "cell_type": "markdown",
      "metadata": {
        "id": "LGR01xiG7dkY",
        "colab_type": "text"
      },
      "source": [
        "## Confusion matrics of Random Forest and ENN + CNN"
      ]
    },
    {
      "cell_type": "code",
      "metadata": {
        "id": "5HTcdiBJhSu9",
        "colab_type": "code",
        "outputId": "9d4689a0-983f-4ac5-e868-518436e2e28a",
        "colab": {
          "base_uri": "https://localhost:8080/",
          "height": 280
        }
      },
      "source": [
        "# Plot confusion matrix \n",
        "ax= plt.subplot()\n",
        "cf2_matrix=pd.DataFrame(confusion_matrix(y_test, ecnn_pred))\n",
        "sns.heatmap(cf2_matrix, annot=True, ax = ax, fmt = 'g',cmap=\"Purples\"); #annot=True to annotate cells\n",
        "# labels, title and ticks\n",
        "ax.set_xlabel('Predicted', fontsize=10)\n",
        "ax.xaxis.set_label_position('top') \n",
        "ax.xaxis.set_ticklabels(['Legitimate', 'Fraudulent'], fontsize = 10)\n",
        "ax.xaxis.tick_top()\n",
        "\n",
        "ax.set_ylabel('Actual', fontsize=10)\n",
        "ax.yaxis.set_ticklabels(['Legitimate', 'Fraudulent'], fontsize = 10)\n",
        "plt.show()\n",
        "\n"
      ],
      "execution_count": 0,
      "outputs": [
        {
          "output_type": "display_data",
          "data": {
            "image/png": "[encoded data removed]",
            "text/plain": [
              "<Figure size 432x288 with 2 Axes>"
            ]
          },
          "metadata": {
            "tags": []
          }
        }
      ]
    },
    {
      "cell_type": "code",
      "metadata": {
        "id": "-exXvICB7rM0",
        "colab_type": "code",
        "colab": {}
      },
      "source": [
        ""
      ],
      "execution_count": 0,
      "outputs": []
    },
    {
      "cell_type": "code",
      "metadata": {
        "id": "e7QbiIVq7rX2",
        "colab_type": "code",
        "colab": {}
      },
      "source": [
        ""
      ],
      "execution_count": 0,
      "outputs": []
    },
    {
      "cell_type": "markdown",
      "metadata": {
        "id": "wquP9A40hSu_",
        "colab_type": "text"
      },
      "source": [
        "## Naive bayes- ENN+CNN"
      ]
    },
    {
      "cell_type": "code",
      "metadata": {
        "id": "-m1zsEljhSu_",
        "colab_type": "code",
        "colab": {}
      },
      "source": [
        "#Create a Gaussian Classifier\n",
        "gaus_naive_mod = GaussianNB()\n",
        "\n",
        "# Train the model using the training sets\n",
        "gaus_naive_mod.fit(x_train_ncr, y_train_ncr.ravel())\n",
        "\n",
        "#Predict the response for test dataset\n",
        "NBY_pred = gaus_naive_mod.predict(x_test)\n"
      ],
      "execution_count": 0,
      "outputs": []
    },
    {
      "cell_type": "markdown",
      "metadata": {
        "id": "W1aXuK1W7tGa",
        "colab_type": "text"
      },
      "source": [
        "## Evaluation metrics on Naive Bayes and ENN +CNN"
      ]
    },
    {
      "cell_type": "code",
      "metadata": {
        "id": "fI7gEVpUhSvC",
        "colab_type": "code",
        "outputId": "9d29c16a-7456-4090-e128-a241613a2cda",
        "colab": {
          "base_uri": "https://localhost:8080/",
          "height": 177
        }
      },
      "source": [
        "# print classification report \n",
        "print(classification_report(y_test, NBY_pred)) \n"
      ],
      "execution_count": 0,
      "outputs": [
        {
          "output_type": "stream",
          "text": [
            "              precision    recall  f1-score   support\n",
            "\n",
            "           0       1.00      0.98      0.99     85307\n",
            "           1       0.06      0.85      0.11       136\n",
            "\n",
            "    accuracy                           0.98     85443\n",
            "   macro avg       0.53      0.91      0.55     85443\n",
            "weighted avg       1.00      0.98      0.99     85443\n",
            "\n"
          ],
          "name": "stdout"
        }
      ]
    },
    {
      "cell_type": "markdown",
      "metadata": {
        "id": "8X1zZvm771hI",
        "colab_type": "text"
      },
      "source": [
        "## Confusion matrixx on Naive Bayes and ENN + CNN"
      ]
    },
    {
      "cell_type": "code",
      "metadata": {
        "id": "GJrfaLFLhSvE",
        "colab_type": "code",
        "outputId": "c272935c-fd62-425f-dc1d-55c2b99db65d",
        "colab": {
          "base_uri": "https://localhost:8080/",
          "height": 280
        }
      },
      "source": [
        "# Plot confusion matrix \n",
        "ax= plt.subplot()\n",
        "cF2_matrix=pd.DataFrame(confusion_matrix(y_test, NBY_pred))\n",
        "sns.heatmap(cF2_matrix, annot=True, ax = ax, fmt = 'g',cmap=\"Reds\"); #annot=True to annotate cells\n",
        "# labels, title and ticks\n",
        "ax.set_xlabel('Predicted', fontsize=10)\n",
        "ax.xaxis.set_label_position('top') \n",
        "ax.xaxis.set_ticklabels(['Legitimate', 'Fraudulent'], fontsize = 10)\n",
        "ax.xaxis.tick_top()\n",
        "\n",
        "ax.set_ylabel('Actual', fontsize=10)\n",
        "ax.yaxis.set_ticklabels(['Legitimate', 'Fraudulent'], fontsize = 10)\n",
        "plt.show()\n",
        "\n",
        "\n"
      ],
      "execution_count": 0,
      "outputs": [
        {
          "output_type": "display_data",
          "data": {
            "image/png": "[encoded data removed]",
            "text/plain": [
              "<Figure size 432x288 with 2 Axes>"
            ]
          },
          "metadata": {
            "tags": []
          }
        }
      ]
    },
    {
      "cell_type": "code",
      "metadata": {
        "id": "E5LcLL8v7-l4",
        "colab_type": "code",
        "colab": {}
      },
      "source": [
        ""
      ],
      "execution_count": 0,
      "outputs": []
    },
    {
      "cell_type": "code",
      "metadata": {
        "id": "tmIRJG4t7-xd",
        "colab_type": "code",
        "colab": {}
      },
      "source": [
        ""
      ],
      "execution_count": 0,
      "outputs": []
    },
    {
      "cell_type": "markdown",
      "metadata": {
        "id": "-z1FxOUVhSvF",
        "colab_type": "text"
      },
      "source": [
        "## K-NN and ENN + CNN"
      ]
    },
    {
      "cell_type": "markdown",
      "metadata": {
        "id": "_Hg-RHKvhSvG",
        "colab_type": "text"
      },
      "source": [
        "### Manual Hyperparameter tuning - KNN -EnN+cNN"
      ]
    },
    {
      "cell_type": "code",
      "metadata": {
        "id": "IhuC5PLyhSvN",
        "colab_type": "code",
        "colab": {}
      },
      "source": [
        "classifier = KNeighborsClassifier(n_neighbors=5,p=2,metric='euclidean') ##n-neighbor is the number of nearest neighbor and euclidean is the distance metric used\n",
        "classifier.fit(x_train_ncr, y_train_ncr.ravel())\n",
        "KNN_pred=classifier.predict(x_test)"
      ],
      "execution_count": 0,
      "outputs": []
    },
    {
      "cell_type": "markdown",
      "metadata": {
        "id": "-Catlo1ahSvN",
        "colab_type": "text"
      },
      "source": [
        "### Evaluation metrics on K-NN- ENN+CNN"
      ]
    },
    {
      "cell_type": "code",
      "metadata": {
        "id": "ywgkv_EThSvP",
        "colab_type": "code",
        "outputId": "1dabd22a-1363-497c-f450-985ae2f1ad12",
        "colab": {
          "base_uri": "https://localhost:8080/",
          "height": 177
        }
      },
      "source": [
        "# print classification report \n",
        "print(classification_report(y_test, KNN_pred)) \n"
      ],
      "execution_count": 0,
      "outputs": [
        {
          "output_type": "stream",
          "text": [
            "              precision    recall  f1-score   support\n",
            "\n",
            "           0       1.00      1.00      1.00     85307\n",
            "           1       0.83      0.82      0.83       136\n",
            "\n",
            "    accuracy                           1.00     85443\n",
            "   macro avg       0.92      0.91      0.91     85443\n",
            "weighted avg       1.00      1.00      1.00     85443\n",
            "\n"
          ],
          "name": "stdout"
        }
      ]
    },
    {
      "cell_type": "markdown",
      "metadata": {
        "id": "-dimWGVW8PpC",
        "colab_type": "text"
      },
      "source": [
        "## Confusion matrix on K-NN and ENN + CNN"
      ]
    },
    {
      "cell_type": "code",
      "metadata": {
        "id": "nWAwb718hSvR",
        "colab_type": "code",
        "outputId": "08dcc589-0bdc-4dc4-a67d-ccc8765ac336",
        "colab": {
          "base_uri": "https://localhost:8080/",
          "height": 280
        }
      },
      "source": [
        "# Plot confusion matrix \n",
        "ax= plt.subplot()\n",
        "Cf3_matrix=pd.DataFrame(confusion_matrix(y_test, KNN_pred))\n",
        "sns.heatmap(Cf3_matrix, annot=True, ax = ax, fmt = 'g',cmap=\"Greens\"); #annot=True to annotate cells\n",
        "# labels, title and ticks\n",
        "ax.set_xlabel('Predicted', fontsize=10)\n",
        "ax.xaxis.set_label_position('top') \n",
        "ax.xaxis.set_ticklabels(['Legitimate', 'Fraudulent'], fontsize = 10)\n",
        "ax.xaxis.tick_top()\n",
        "\n",
        "ax.set_ylabel('Actual', fontsize=10)\n",
        "ax.yaxis.set_ticklabels(['Legitimate', 'Fraudulent'], fontsize = 10)\n",
        "plt.show()\n",
        "\n",
        "\n"
      ],
      "execution_count": 0,
      "outputs": [
        {
          "output_type": "display_data",
          "data": {
            "image/png": "[encoded data removed]",
            "text/plain": [
              "<Figure size 432x288 with 2 Axes>"
            ]
          },
          "metadata": {
            "tags": []
          }
        }
      ]
    },
    {
      "cell_type": "code",
      "metadata": {
        "id": "vdefgc3x8heS",
        "colab_type": "code",
        "colab": {}
      },
      "source": [
        ""
      ],
      "execution_count": 0,
      "outputs": []
    },
    {
      "cell_type": "code",
      "metadata": {
        "id": "LOQT_m6_8hqL",
        "colab_type": "code",
        "colab": {}
      },
      "source": [
        ""
      ],
      "execution_count": 0,
      "outputs": []
    },
    {
      "cell_type": "markdown",
      "metadata": {
        "id": "Al4cVGffhSvU",
        "colab_type": "text"
      },
      "source": [
        "## SVM- ENN+CNN"
      ]
    },
    {
      "cell_type": "code",
      "metadata": {
        "id": "S4W18qBMhSvV",
        "colab_type": "code",
        "colab": {}
      },
      "source": [
        "svclassifier = SVC(kernel='linear',C=0.01) ## Kernel tfunction is the linear and the C is the cost function \n",
        "svclassifier.fit(x_train_ncr, y_train_ncr)\n",
        "Svc_pred=svclassifier.predict(x_test)"
      ],
      "execution_count": 0,
      "outputs": []
    },
    {
      "cell_type": "markdown",
      "metadata": {
        "id": "5OXAdGnp8sNm",
        "colab_type": "text"
      },
      "source": [
        "## Evaluation metrics on SVM and ENN + CNN"
      ]
    },
    {
      "cell_type": "code",
      "metadata": {
        "id": "BctPhymzhSvX",
        "colab_type": "code",
        "outputId": "fd69477c-a98e-464b-e182-b625222b202b",
        "colab": {
          "base_uri": "https://localhost:8080/",
          "height": 177
        }
      },
      "source": [
        "print(classification_report(y_test, Svc_pred)) \n"
      ],
      "execution_count": 0,
      "outputs": [
        {
          "output_type": "stream",
          "text": [
            "              precision    recall  f1-score   support\n",
            "\n",
            "           0       1.00      1.00      1.00     85307\n",
            "           1       0.78      0.83      0.81       136\n",
            "\n",
            "    accuracy                           1.00     85443\n",
            "   macro avg       0.89      0.92      0.90     85443\n",
            "weighted avg       1.00      1.00      1.00     85443\n",
            "\n"
          ],
          "name": "stdout"
        }
      ]
    },
    {
      "cell_type": "markdown",
      "metadata": {
        "id": "HeyitSMW82e_",
        "colab_type": "text"
      },
      "source": [
        "## Confusion matrix on SVM and ENN + CNN"
      ]
    },
    {
      "cell_type": "code",
      "metadata": {
        "id": "vNXNn_YrhSvo",
        "colab_type": "code",
        "outputId": "c80c78b9-f738-4590-bc4a-6201bec50b32",
        "colab": {
          "base_uri": "https://localhost:8080/",
          "height": 277
        }
      },
      "source": [
        "# Plot confusion matrix \n",
        "ax= plt.subplot()\n",
        "Conf3_matrix=pd.DataFrame(confusion_matrix(y_test, Svc_pred))\n",
        "sns.heatmap(Conf3_matrix, annot=True, ax = ax, fmt = 'g',cmap=\"Blues\"); #annot=True to annotate cells\n",
        "# labels, title and ticks\n",
        "ax.set_xlabel('Predicted', fontsize=10)\n",
        "ax.xaxis.set_label_position('top') \n",
        "ax.xaxis.set_ticklabels(['Legitimate', 'Fraudulent'], fontsize = 10)\n",
        "ax.xaxis.tick_top()\n",
        "\n",
        "ax.set_ylabel('Actual', fontsize=10)\n",
        "ax.yaxis.set_ticklabels(['Legitimate', 'Fraudulent'], fontsize = 10)\n",
        "plt.show()\n",
        "\n",
        "\n"
      ],
      "execution_count": 0,
      "outputs": [
        {
          "output_type": "display_data",
          "data": {
            "image/png": "[encoded data removed]",
            "text/plain": [
              "<Figure size 432x288 with 2 Axes>"
            ]
          },
          "metadata": {
            "tags": [],
            "needs_background": "light"
          }
        }
      ]
    }
  ]
}